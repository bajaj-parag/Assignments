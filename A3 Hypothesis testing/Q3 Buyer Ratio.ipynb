{
 "cells": [
  {
   "cell_type": "markdown",
   "id": "98f06400",
   "metadata": {},
   "source": [
    "Null Hypothesis as Ho: Independence of categorical variables (male-female buyer rations are similar across regions (does not vary and are not related) Thus Alternate Hypothesis as Ha: Dependence of categorical variables (male-female buyer rations are NOT similar across regions (does vary and somewhat/significantly related)"
   ]
  },
  {
   "cell_type": "code",
   "execution_count": 1,
   "id": "9de7e872",
   "metadata": {
    "ExecuteTime": {
     "end_time": "2023-01-21T11:55:59.896375Z",
     "start_time": "2023-01-21T11:55:58.151188Z"
    }
   },
   "outputs": [],
   "source": [
    "import pandas as pd\n",
    "from scipy import stats\n",
    "from scipy.stats import norm, chi2_contingency\n",
    "import numpy as np"
   ]
  },
  {
   "cell_type": "code",
   "execution_count": 2,
   "id": "54a08325",
   "metadata": {
    "ExecuteTime": {
     "end_time": "2023-01-21T11:55:59.951184Z",
     "start_time": "2023-01-21T11:55:59.901488Z"
    }
   },
   "outputs": [
    {
     "data": {
      "text/html": [
       "<div>\n",
       "<style scoped>\n",
       "    .dataframe tbody tr th:only-of-type {\n",
       "        vertical-align: middle;\n",
       "    }\n",
       "\n",
       "    .dataframe tbody tr th {\n",
       "        vertical-align: top;\n",
       "    }\n",
       "\n",
       "    .dataframe thead th {\n",
       "        text-align: right;\n",
       "    }\n",
       "</style>\n",
       "<table border=\"1\" class=\"dataframe\">\n",
       "  <thead>\n",
       "    <tr style=\"text-align: right;\">\n",
       "      <th></th>\n",
       "      <th>Observed Values</th>\n",
       "      <th>East</th>\n",
       "      <th>West</th>\n",
       "      <th>North</th>\n",
       "      <th>South</th>\n",
       "    </tr>\n",
       "  </thead>\n",
       "  <tbody>\n",
       "    <tr>\n",
       "      <th>0</th>\n",
       "      <td>Males</td>\n",
       "      <td>50</td>\n",
       "      <td>142</td>\n",
       "      <td>131</td>\n",
       "      <td>70</td>\n",
       "    </tr>\n",
       "    <tr>\n",
       "      <th>1</th>\n",
       "      <td>Females</td>\n",
       "      <td>435</td>\n",
       "      <td>1523</td>\n",
       "      <td>1356</td>\n",
       "      <td>750</td>\n",
       "    </tr>\n",
       "  </tbody>\n",
       "</table>\n",
       "</div>"
      ],
      "text/plain": [
       "  Observed Values  East  West  North  South\n",
       "0           Males    50   142    131     70\n",
       "1         Females   435  1523   1356    750"
      ]
     },
     "execution_count": 2,
     "metadata": {},
     "output_type": "execute_result"
    }
   ],
   "source": [
    "df = pd.read_csv(r\"C:\\Users\\Dell\\Assignments\\Assignment 3\\BuyerRatio.csv\")\n",
    "df.head()"
   ]
  },
  {
   "cell_type": "code",
   "execution_count": 3,
   "id": "ed418d6d",
   "metadata": {
    "ExecuteTime": {
     "end_time": "2023-01-21T11:55:59.986878Z",
     "start_time": "2023-01-21T11:55:59.968186Z"
    }
   },
   "outputs": [],
   "source": [
    "# make dimensional array\n",
    "\n",
    "dmnarray = np.array([[50,142,131,70],[435,1523,1356,750]])"
   ]
  },
  {
   "cell_type": "code",
   "execution_count": 4,
   "id": "e12def07",
   "metadata": {
    "ExecuteTime": {
     "end_time": "2023-01-21T11:56:00.025978Z",
     "start_time": "2023-01-21T11:55:59.991160Z"
    }
   },
   "outputs": [],
   "source": [
    "p_value= chi2_contingency(dmnarray)  # o/p is (Chi2 stats value, p_value, df, expected obsevations)"
   ]
  },
  {
   "cell_type": "code",
   "execution_count": 5,
   "id": "c6b0a1b9",
   "metadata": {
    "ExecuteTime": {
     "end_time": "2023-01-21T11:56:00.061078Z",
     "start_time": "2023-01-21T11:56:00.034505Z"
    }
   },
   "outputs": [
    {
     "data": {
      "text/plain": [
       "0.6603094907091882"
      ]
     },
     "execution_count": 5,
     "metadata": {},
     "output_type": "execute_result"
    }
   ],
   "source": [
    "p_value[1]"
   ]
  },
  {
   "cell_type": "markdown",
   "id": "014a7f46",
   "metadata": {},
   "source": [
    "Accept the Null Hypothesis i.e. Independence of categorical variables Thus, male-female buyer rations are similar across regions and are not related"
   ]
  },
  {
   "cell_type": "code",
   "execution_count": null,
   "id": "316d99a2",
   "metadata": {},
   "outputs": [],
   "source": []
  }
 ],
 "metadata": {
  "kernelspec": {
   "display_name": "Python 3 (ipykernel)",
   "language": "python",
   "name": "python3"
  },
  "language_info": {
   "codemirror_mode": {
    "name": "ipython",
    "version": 3
   },
   "file_extension": ".py",
   "mimetype": "text/x-python",
   "name": "python",
   "nbconvert_exporter": "python",
   "pygments_lexer": "ipython3",
   "version": "3.9.12"
  }
 },
 "nbformat": 4,
 "nbformat_minor": 5
}
