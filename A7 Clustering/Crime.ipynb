{
 "cells": [
  {
   "cell_type": "code",
   "execution_count": 1,
   "id": "7ba44757",
   "metadata": {
    "ExecuteTime": {
     "end_time": "2023-02-03T10:37:45.442478Z",
     "start_time": "2023-02-03T10:37:40.458778Z"
    }
   },
   "outputs": [],
   "source": [
    "import pandas as pd\n",
    "import numpy as np\n",
    "import matplotlib.pyplot as plt\n",
    "import seaborn as sns\n",
    "import scipy.cluster.hierarchy as sch\n",
    "from sklearn.cluster import AgglomerativeClustering, KMeans, DBSCAN\n",
    "from sklearn.preprocessing import normalize\n",
    "import warnings\n",
    "\n",
    "warnings.filterwarnings(\"ignore\")"
   ]
  },
  {
   "cell_type": "code",
   "execution_count": 2,
   "id": "94d35de8",
   "metadata": {
    "ExecuteTime": {
     "end_time": "2023-02-03T10:37:45.527752Z",
     "start_time": "2023-02-03T10:37:45.449043Z"
    }
   },
   "outputs": [
    {
     "data": {
      "text/html": [
       "<div>\n",
       "<style scoped>\n",
       "    .dataframe tbody tr th:only-of-type {\n",
       "        vertical-align: middle;\n",
       "    }\n",
       "\n",
       "    .dataframe tbody tr th {\n",
       "        vertical-align: top;\n",
       "    }\n",
       "\n",
       "    .dataframe thead th {\n",
       "        text-align: right;\n",
       "    }\n",
       "</style>\n",
       "<table border=\"1\" class=\"dataframe\">\n",
       "  <thead>\n",
       "    <tr style=\"text-align: right;\">\n",
       "      <th></th>\n",
       "      <th>Unnamed: 0</th>\n",
       "      <th>Murder</th>\n",
       "      <th>Assault</th>\n",
       "      <th>UrbanPop</th>\n",
       "      <th>Rape</th>\n",
       "    </tr>\n",
       "  </thead>\n",
       "  <tbody>\n",
       "    <tr>\n",
       "      <th>0</th>\n",
       "      <td>Alabama</td>\n",
       "      <td>13.2</td>\n",
       "      <td>236</td>\n",
       "      <td>58</td>\n",
       "      <td>21.2</td>\n",
       "    </tr>\n",
       "    <tr>\n",
       "      <th>1</th>\n",
       "      <td>Alaska</td>\n",
       "      <td>10.0</td>\n",
       "      <td>263</td>\n",
       "      <td>48</td>\n",
       "      <td>44.5</td>\n",
       "    </tr>\n",
       "    <tr>\n",
       "      <th>2</th>\n",
       "      <td>Arizona</td>\n",
       "      <td>8.1</td>\n",
       "      <td>294</td>\n",
       "      <td>80</td>\n",
       "      <td>31.0</td>\n",
       "    </tr>\n",
       "    <tr>\n",
       "      <th>3</th>\n",
       "      <td>Arkansas</td>\n",
       "      <td>8.8</td>\n",
       "      <td>190</td>\n",
       "      <td>50</td>\n",
       "      <td>19.5</td>\n",
       "    </tr>\n",
       "    <tr>\n",
       "      <th>4</th>\n",
       "      <td>California</td>\n",
       "      <td>9.0</td>\n",
       "      <td>276</td>\n",
       "      <td>91</td>\n",
       "      <td>40.6</td>\n",
       "    </tr>\n",
       "  </tbody>\n",
       "</table>\n",
       "</div>"
      ],
      "text/plain": [
       "   Unnamed: 0  Murder  Assault  UrbanPop  Rape\n",
       "0     Alabama    13.2      236        58  21.2\n",
       "1      Alaska    10.0      263        48  44.5\n",
       "2     Arizona     8.1      294        80  31.0\n",
       "3    Arkansas     8.8      190        50  19.5\n",
       "4  California     9.0      276        91  40.6"
      ]
     },
     "execution_count": 2,
     "metadata": {},
     "output_type": "execute_result"
    }
   ],
   "source": [
    "crime = pd.read_csv(r'crime_data.csv')\n",
    "crime.head()"
   ]
  },
  {
   "cell_type": "markdown",
   "id": "fd23dfb6",
   "metadata": {},
   "source": [
    "# EDA"
   ]
  },
  {
   "cell_type": "code",
   "execution_count": 3,
   "id": "811155aa",
   "metadata": {
    "ExecuteTime": {
     "end_time": "2023-02-03T10:37:45.577778Z",
     "start_time": "2023-02-03T10:37:45.527752Z"
    }
   },
   "outputs": [
    {
     "data": {
      "text/html": [
       "<div>\n",
       "<style scoped>\n",
       "    .dataframe tbody tr th:only-of-type {\n",
       "        vertical-align: middle;\n",
       "    }\n",
       "\n",
       "    .dataframe tbody tr th {\n",
       "        vertical-align: top;\n",
       "    }\n",
       "\n",
       "    .dataframe thead th {\n",
       "        text-align: right;\n",
       "    }\n",
       "</style>\n",
       "<table border=\"1\" class=\"dataframe\">\n",
       "  <thead>\n",
       "    <tr style=\"text-align: right;\">\n",
       "      <th></th>\n",
       "      <th>Murder</th>\n",
       "      <th>Assault</th>\n",
       "      <th>UrbanPop</th>\n",
       "      <th>Rape</th>\n",
       "    </tr>\n",
       "  </thead>\n",
       "  <tbody>\n",
       "    <tr>\n",
       "      <th>0</th>\n",
       "      <td>13.2</td>\n",
       "      <td>236</td>\n",
       "      <td>58</td>\n",
       "      <td>21.2</td>\n",
       "    </tr>\n",
       "    <tr>\n",
       "      <th>1</th>\n",
       "      <td>10.0</td>\n",
       "      <td>263</td>\n",
       "      <td>48</td>\n",
       "      <td>44.5</td>\n",
       "    </tr>\n",
       "    <tr>\n",
       "      <th>2</th>\n",
       "      <td>8.1</td>\n",
       "      <td>294</td>\n",
       "      <td>80</td>\n",
       "      <td>31.0</td>\n",
       "    </tr>\n",
       "    <tr>\n",
       "      <th>3</th>\n",
       "      <td>8.8</td>\n",
       "      <td>190</td>\n",
       "      <td>50</td>\n",
       "      <td>19.5</td>\n",
       "    </tr>\n",
       "    <tr>\n",
       "      <th>4</th>\n",
       "      <td>9.0</td>\n",
       "      <td>276</td>\n",
       "      <td>91</td>\n",
       "      <td>40.6</td>\n",
       "    </tr>\n",
       "  </tbody>\n",
       "</table>\n",
       "</div>"
      ],
      "text/plain": [
       "   Murder  Assault  UrbanPop  Rape\n",
       "0    13.2      236        58  21.2\n",
       "1    10.0      263        48  44.5\n",
       "2     8.1      294        80  31.0\n",
       "3     8.8      190        50  19.5\n",
       "4     9.0      276        91  40.6"
      ]
     },
     "execution_count": 3,
     "metadata": {},
     "output_type": "execute_result"
    }
   ],
   "source": [
    "crime2 = crime.drop(['Unnamed: 0'], axis=1)\n",
    "crime2.head()"
   ]
  },
  {
   "cell_type": "code",
   "execution_count": 4,
   "id": "32d71a49",
   "metadata": {
    "ExecuteTime": {
     "end_time": "2023-02-03T10:37:53.738921Z",
     "start_time": "2023-02-03T10:37:45.579825Z"
    }
   },
   "outputs": [
    {
     "data": {
      "image/png": "[encoded data removed]",
      "text/plain": [
       "<Figure size 1000x1000 with 20 Axes>"
      ]
     },
     "metadata": {},
     "output_type": "display_data"
    }
   ],
   "source": [
    "sns.set_style(style='darkgrid')\n",
    "sns.pairplot(data=crime2)\n",
    "plt.show()"
   ]
  },
  {
   "cell_type": "code",
   "execution_count": 5,
   "id": "33cee842",
   "metadata": {
    "ExecuteTime": {
     "end_time": "2023-02-03T10:37:53.770919Z",
     "start_time": "2023-02-03T10:37:53.746921Z"
    }
   },
   "outputs": [
    {
     "name": "stdout",
     "output_type": "stream",
     "text": [
      "<class 'pandas.core.frame.DataFrame'>\n",
      "RangeIndex: 50 entries, 0 to 49\n",
      "Data columns (total 4 columns):\n",
      " #   Column    Non-Null Count  Dtype  \n",
      "---  ------    --------------  -----  \n",
      " 0   Murder    50 non-null     float64\n",
      " 1   Assault   50 non-null     int64  \n",
      " 2   UrbanPop  50 non-null     int64  \n",
      " 3   Rape      50 non-null     float64\n",
      "dtypes: float64(2), int64(2)\n",
      "memory usage: 1.7 KB\n"
     ]
    }
   ],
   "source": [
    "crime2.info()"
   ]
  },
  {
   "cell_type": "code",
   "execution_count": 6,
   "id": "c94c7965",
   "metadata": {
    "ExecuteTime": {
     "end_time": "2023-02-03T10:37:53.857844Z",
     "start_time": "2023-02-03T10:37:53.770919Z"
    }
   },
   "outputs": [
    {
     "data": {
      "text/html": [
       "<div>\n",
       "<style scoped>\n",
       "    .dataframe tbody tr th:only-of-type {\n",
       "        vertical-align: middle;\n",
       "    }\n",
       "\n",
       "    .dataframe tbody tr th {\n",
       "        vertical-align: top;\n",
       "    }\n",
       "\n",
       "    .dataframe thead th {\n",
       "        text-align: right;\n",
       "    }\n",
       "</style>\n",
       "<table border=\"1\" class=\"dataframe\">\n",
       "  <thead>\n",
       "    <tr style=\"text-align: right;\">\n",
       "      <th></th>\n",
       "      <th>Murder</th>\n",
       "      <th>Assault</th>\n",
       "      <th>UrbanPop</th>\n",
       "      <th>Rape</th>\n",
       "    </tr>\n",
       "  </thead>\n",
       "  <tbody>\n",
       "    <tr>\n",
       "      <th>count</th>\n",
       "      <td>50.00000</td>\n",
       "      <td>50.000000</td>\n",
       "      <td>50.000000</td>\n",
       "      <td>50.000000</td>\n",
       "    </tr>\n",
       "    <tr>\n",
       "      <th>mean</th>\n",
       "      <td>7.78800</td>\n",
       "      <td>170.760000</td>\n",
       "      <td>65.540000</td>\n",
       "      <td>21.232000</td>\n",
       "    </tr>\n",
       "    <tr>\n",
       "      <th>std</th>\n",
       "      <td>4.35551</td>\n",
       "      <td>83.337661</td>\n",
       "      <td>14.474763</td>\n",
       "      <td>9.366385</td>\n",
       "    </tr>\n",
       "    <tr>\n",
       "      <th>min</th>\n",
       "      <td>0.80000</td>\n",
       "      <td>45.000000</td>\n",
       "      <td>32.000000</td>\n",
       "      <td>7.300000</td>\n",
       "    </tr>\n",
       "    <tr>\n",
       "      <th>25%</th>\n",
       "      <td>4.07500</td>\n",
       "      <td>109.000000</td>\n",
       "      <td>54.500000</td>\n",
       "      <td>15.075000</td>\n",
       "    </tr>\n",
       "    <tr>\n",
       "      <th>50%</th>\n",
       "      <td>7.25000</td>\n",
       "      <td>159.000000</td>\n",
       "      <td>66.000000</td>\n",
       "      <td>20.100000</td>\n",
       "    </tr>\n",
       "    <tr>\n",
       "      <th>75%</th>\n",
       "      <td>11.25000</td>\n",
       "      <td>249.000000</td>\n",
       "      <td>77.750000</td>\n",
       "      <td>26.175000</td>\n",
       "    </tr>\n",
       "    <tr>\n",
       "      <th>max</th>\n",
       "      <td>17.40000</td>\n",
       "      <td>337.000000</td>\n",
       "      <td>91.000000</td>\n",
       "      <td>46.000000</td>\n",
       "    </tr>\n",
       "  </tbody>\n",
       "</table>\n",
       "</div>"
      ],
      "text/plain": [
       "         Murder     Assault   UrbanPop       Rape\n",
       "count  50.00000   50.000000  50.000000  50.000000\n",
       "mean    7.78800  170.760000  65.540000  21.232000\n",
       "std     4.35551   83.337661  14.474763   9.366385\n",
       "min     0.80000   45.000000  32.000000   7.300000\n",
       "25%     4.07500  109.000000  54.500000  15.075000\n",
       "50%     7.25000  159.000000  66.000000  20.100000\n",
       "75%    11.25000  249.000000  77.750000  26.175000\n",
       "max    17.40000  337.000000  91.000000  46.000000"
      ]
     },
     "execution_count": 6,
     "metadata": {},
     "output_type": "execute_result"
    }
   ],
   "source": [
    "crime2.describe()"
   ]
  },
  {
   "cell_type": "code",
   "execution_count": 7,
   "id": "f48c15c3",
   "metadata": {
    "ExecuteTime": {
     "end_time": "2023-02-03T10:37:53.899445Z",
     "start_time": "2023-02-03T10:37:53.857844Z"
    }
   },
   "outputs": [
    {
     "data": {
      "text/html": [
       "<div>\n",
       "<style scoped>\n",
       "    .dataframe tbody tr th:only-of-type {\n",
       "        vertical-align: middle;\n",
       "    }\n",
       "\n",
       "    .dataframe tbody tr th {\n",
       "        vertical-align: top;\n",
       "    }\n",
       "\n",
       "    .dataframe thead th {\n",
       "        text-align: right;\n",
       "    }\n",
       "</style>\n",
       "<table border=\"1\" class=\"dataframe\">\n",
       "  <thead>\n",
       "    <tr style=\"text-align: right;\">\n",
       "      <th></th>\n",
       "      <th>Murder</th>\n",
       "      <th>Assault</th>\n",
       "      <th>UrbanPop</th>\n",
       "      <th>Rape</th>\n",
       "    </tr>\n",
       "  </thead>\n",
       "  <tbody>\n",
       "    <tr>\n",
       "      <th>0</th>\n",
       "      <td>0.054031</td>\n",
       "      <td>0.966016</td>\n",
       "      <td>0.237411</td>\n",
       "      <td>0.086778</td>\n",
       "    </tr>\n",
       "    <tr>\n",
       "      <th>1</th>\n",
       "      <td>0.036872</td>\n",
       "      <td>0.969739</td>\n",
       "      <td>0.176987</td>\n",
       "      <td>0.164081</td>\n",
       "    </tr>\n",
       "    <tr>\n",
       "      <th>2</th>\n",
       "      <td>0.026439</td>\n",
       "      <td>0.959624</td>\n",
       "      <td>0.261122</td>\n",
       "      <td>0.101185</td>\n",
       "    </tr>\n",
       "    <tr>\n",
       "      <th>3</th>\n",
       "      <td>0.044528</td>\n",
       "      <td>0.961392</td>\n",
       "      <td>0.252998</td>\n",
       "      <td>0.098669</td>\n",
       "    </tr>\n",
       "    <tr>\n",
       "      <th>4</th>\n",
       "      <td>0.030657</td>\n",
       "      <td>0.940134</td>\n",
       "      <td>0.309972</td>\n",
       "      <td>0.138295</td>\n",
       "    </tr>\n",
       "  </tbody>\n",
       "</table>\n",
       "</div>"
      ],
      "text/plain": [
       "     Murder   Assault  UrbanPop      Rape\n",
       "0  0.054031  0.966016  0.237411  0.086778\n",
       "1  0.036872  0.969739  0.176987  0.164081\n",
       "2  0.026439  0.959624  0.261122  0.101185\n",
       "3  0.044528  0.961392  0.252998  0.098669\n",
       "4  0.030657  0.940134  0.309972  0.138295"
      ]
     },
     "execution_count": 7,
     "metadata": {},
     "output_type": "execute_result"
    }
   ],
   "source": [
    "# Normalize heterogenous numerical data \n",
    "\n",
    "crime2= pd.DataFrame(normalize(crime2), columns=crime2.columns)\n",
    "crime2.head()"
   ]
  },
  {
   "cell_type": "code",
   "execution_count": 8,
   "id": "5b3cef42",
   "metadata": {
    "ExecuteTime": {
     "end_time": "2023-02-03T10:37:55.564272Z",
     "start_time": "2023-02-03T10:37:53.899445Z"
    }
   },
   "outputs": [
    {
     "data": {
      "image/png": "[encoded data removed]",
      "text/plain": [
       "<Figure size 1000x700 with 1 Axes>"
      ]
     },
     "metadata": {},
     "output_type": "display_data"
    }
   ],
   "source": [
    "# Creating Dendogram\n",
    "\n",
    "plt.figure(figsize=(10,7))\n",
    "dendogram= sch.dendrogram(sch.linkage(crime2, 'complete'))"
   ]
  },
  {
   "cell_type": "code",
   "execution_count": 9,
   "id": "ee79fd65",
   "metadata": {
    "ExecuteTime": {
     "end_time": "2023-02-03T10:37:55.601647Z",
     "start_time": "2023-02-03T10:37:55.564272Z"
    }
   },
   "outputs": [
    {
     "data": {
      "text/html": [
       "<style>#sk-container-id-1 {color: black;background-color: white;}#sk-container-id-1 pre{padding: 0;}#sk-container-id-1 div.sk-toggleable {background-color: white;}#sk-container-id-1 label.sk-toggleable__label {cursor: pointer;display: block;width: 100%;margin-bottom: 0;padding: 0.3em;box-sizing: border-box;text-align: center;}#sk-container-id-1 label.sk-toggleable__label-arrow:before {content: \"▸\";float: left;margin-right: 0.25em;color: #696969;}#sk-container-id-1 label.sk-toggleable__label-arrow:hover:before {color: black;}#sk-container-id-1 div.sk-estimator:hover label.sk-toggleable__label-arrow:before {color: black;}#sk-container-id-1 div.sk-toggleable__content {max-height: 0;max-width: 0;overflow: hidden;text-align: left;background-color: #f0f8ff;}#sk-container-id-1 div.sk-toggleable__content pre {margin: 0.2em;color: black;border-radius: 0.25em;background-color: #f0f8ff;}#sk-container-id-1 input.sk-toggleable__control:checked~div.sk-toggleable__content {max-height: 200px;max-width: 100%;overflow: auto;}#sk-container-id-1 input.sk-toggleable__control:checked~label.sk-toggleable__label-arrow:before {content: \"▾\";}#sk-container-id-1 div.sk-estimator input.sk-toggleable__control:checked~label.sk-toggleable__label {background-color: #d4ebff;}#sk-container-id-1 div.sk-label input.sk-toggleable__control:checked~label.sk-toggleable__label {background-color: #d4ebff;}#sk-container-id-1 input.sk-hidden--visually {border: 0;clip: rect(1px 1px 1px 1px);clip: rect(1px, 1px, 1px, 1px);height: 1px;margin: -1px;overflow: hidden;padding: 0;position: absolute;width: 1px;}#sk-container-id-1 div.sk-estimator {font-family: monospace;background-color: #f0f8ff;border: 1px dotted black;border-radius: 0.25em;box-sizing: border-box;margin-bottom: 0.5em;}#sk-container-id-1 div.sk-estimator:hover {background-color: #d4ebff;}#sk-container-id-1 div.sk-parallel-item::after {content: \"\";width: 100%;border-bottom: 1px solid gray;flex-grow: 1;}#sk-container-id-1 div.sk-label:hover label.sk-toggleable__label {background-color: #d4ebff;}#sk-container-id-1 div.sk-serial::before {content: \"\";position: absolute;border-left: 1px solid gray;box-sizing: border-box;top: 0;bottom: 0;left: 50%;z-index: 0;}#sk-container-id-1 div.sk-serial {display: flex;flex-direction: column;align-items: center;background-color: white;padding-right: 0.2em;padding-left: 0.2em;position: relative;}#sk-container-id-1 div.sk-item {position: relative;z-index: 1;}#sk-container-id-1 div.sk-parallel {display: flex;align-items: stretch;justify-content: center;background-color: white;position: relative;}#sk-container-id-1 div.sk-item::before, #sk-container-id-1 div.sk-parallel-item::before {content: \"\";position: absolute;border-left: 1px solid gray;box-sizing: border-box;top: 0;bottom: 0;left: 50%;z-index: -1;}#sk-container-id-1 div.sk-parallel-item {display: flex;flex-direction: column;z-index: 1;position: relative;background-color: white;}#sk-container-id-1 div.sk-parallel-item:first-child::after {align-self: flex-end;width: 50%;}#sk-container-id-1 div.sk-parallel-item:last-child::after {align-self: flex-start;width: 50%;}#sk-container-id-1 div.sk-parallel-item:only-child::after {width: 0;}#sk-container-id-1 div.sk-dashed-wrapped {border: 1px dashed gray;margin: 0 0.4em 0.5em 0.4em;box-sizing: border-box;padding-bottom: 0.4em;background-color: white;}#sk-container-id-1 div.sk-label label {font-family: monospace;font-weight: bold;display: inline-block;line-height: 1.2em;}#sk-container-id-1 div.sk-label-container {text-align: center;}#sk-container-id-1 div.sk-container {/* jupyter's `normalize.less` sets `[hidden] { display: none; }` but bootstrap.min.css set `[hidden] { display: none !important; }` so we also need the `!important` here to be able to override the default hidden behavior on the sphinx rendered scikit-learn.org. See: https://github.com/scikit-learn/scikit-learn/issues/21755 */display: inline-block !important;position: relative;}#sk-container-id-1 div.sk-text-repr-fallback {display: none;}</style><div id=\"sk-container-id-1\" class=\"sk-top-container\"><div class=\"sk-text-repr-fallback\"><pre>AgglomerativeClustering(affinity=&#x27;euclidean&#x27;, n_clusters=5)</pre><b>In a Jupyter environment, please rerun this cell to show the HTML representation or trust the notebook. <br />On GitHub, the HTML representation is unable to render, please try loading this page with nbviewer.org.</b></div><div class=\"sk-container\" hidden><div class=\"sk-item\"><div class=\"sk-estimator sk-toggleable\"><input class=\"sk-toggleable__control sk-hidden--visually\" id=\"sk-estimator-id-1\" type=\"checkbox\" checked><label for=\"sk-estimator-id-1\" class=\"sk-toggleable__label sk-toggleable__label-arrow\">AgglomerativeClustering</label><div class=\"sk-toggleable__content\"><pre>AgglomerativeClustering(affinity=&#x27;euclidean&#x27;, n_clusters=5)</pre></div></div></div></div></div>"
      ],
      "text/plain": [
       "AgglomerativeClustering(affinity='euclidean', n_clusters=5)"
      ]
     },
     "execution_count": 9,
     "metadata": {},
     "output_type": "execute_result"
    }
   ],
   "source": [
    "# create cluster y\n",
    "\n",
    "hcluster= AgglomerativeClustering(n_clusters=5, linkage= 'ward', affinity= 'euclidean' )\n",
    "hcluster"
   ]
  },
  {
   "cell_type": "code",
   "execution_count": 10,
   "id": "3c36e1ab",
   "metadata": {
    "ExecuteTime": {
     "end_time": "2023-02-03T10:37:55.642312Z",
     "start_time": "2023-02-03T10:37:55.602121Z"
    }
   },
   "outputs": [
    {
     "data": {
      "text/plain": [
       "0    20\n",
       "3    12\n",
       "1    12\n",
       "2     5\n",
       "4     1\n",
       "Name: cluster, dtype: int64"
      ]
     },
     "execution_count": 10,
     "metadata": {},
     "output_type": "execute_result"
    }
   ],
   "source": [
    "y = pd.DataFrame(hcluster.fit_predict(crime2),columns=['cluster'])\n",
    "y['cluster'].value_counts()"
   ]
  },
  {
   "cell_type": "code",
   "execution_count": 11,
   "id": "0e7df436",
   "metadata": {
    "ExecuteTime": {
     "end_time": "2023-02-03T10:37:55.693682Z",
     "start_time": "2023-02-03T10:37:55.651623Z"
    }
   },
   "outputs": [
    {
     "data": {
      "text/html": [
       "<div>\n",
       "<style scoped>\n",
       "    .dataframe tbody tr th:only-of-type {\n",
       "        vertical-align: middle;\n",
       "    }\n",
       "\n",
       "    .dataframe tbody tr th {\n",
       "        vertical-align: top;\n",
       "    }\n",
       "\n",
       "    .dataframe thead th {\n",
       "        text-align: right;\n",
       "    }\n",
       "</style>\n",
       "<table border=\"1\" class=\"dataframe\">\n",
       "  <thead>\n",
       "    <tr style=\"text-align: right;\">\n",
       "      <th></th>\n",
       "      <th>Murder</th>\n",
       "      <th>Assault</th>\n",
       "      <th>UrbanPop</th>\n",
       "      <th>Rape</th>\n",
       "      <th>cluster</th>\n",
       "    </tr>\n",
       "  </thead>\n",
       "  <tbody>\n",
       "    <tr>\n",
       "      <th>0</th>\n",
       "      <td>0.054031</td>\n",
       "      <td>0.966016</td>\n",
       "      <td>0.237411</td>\n",
       "      <td>0.086778</td>\n",
       "      <td>0</td>\n",
       "    </tr>\n",
       "    <tr>\n",
       "      <th>1</th>\n",
       "      <td>0.036872</td>\n",
       "      <td>0.969739</td>\n",
       "      <td>0.176987</td>\n",
       "      <td>0.164081</td>\n",
       "      <td>0</td>\n",
       "    </tr>\n",
       "    <tr>\n",
       "      <th>2</th>\n",
       "      <td>0.026439</td>\n",
       "      <td>0.959624</td>\n",
       "      <td>0.261122</td>\n",
       "      <td>0.101185</td>\n",
       "      <td>0</td>\n",
       "    </tr>\n",
       "    <tr>\n",
       "      <th>3</th>\n",
       "      <td>0.044528</td>\n",
       "      <td>0.961392</td>\n",
       "      <td>0.252998</td>\n",
       "      <td>0.098669</td>\n",
       "      <td>0</td>\n",
       "    </tr>\n",
       "    <tr>\n",
       "      <th>4</th>\n",
       "      <td>0.030657</td>\n",
       "      <td>0.940134</td>\n",
       "      <td>0.309972</td>\n",
       "      <td>0.138295</td>\n",
       "      <td>0</td>\n",
       "    </tr>\n",
       "  </tbody>\n",
       "</table>\n",
       "</div>"
      ],
      "text/plain": [
       "     Murder   Assault  UrbanPop      Rape  cluster\n",
       "0  0.054031  0.966016  0.237411  0.086778        0\n",
       "1  0.036872  0.969739  0.176987  0.164081        0\n",
       "2  0.026439  0.959624  0.261122  0.101185        0\n",
       "3  0.044528  0.961392  0.252998  0.098669        0\n",
       "4  0.030657  0.940134  0.309972  0.138295        0"
      ]
     },
     "execution_count": 11,
     "metadata": {},
     "output_type": "execute_result"
    }
   ],
   "source": [
    "crime2['cluster']= hcluster.labels_\n",
    "crime2.head()"
   ]
  },
  {
   "cell_type": "code",
   "execution_count": 12,
   "id": "247cf63c",
   "metadata": {
    "ExecuteTime": {
     "end_time": "2023-02-03T10:37:55.777063Z",
     "start_time": "2023-02-03T10:37:55.693682Z"
    }
   },
   "outputs": [
    {
     "data": {
      "text/html": [
       "<div>\n",
       "<style scoped>\n",
       "    .dataframe tbody tr th:only-of-type {\n",
       "        vertical-align: middle;\n",
       "    }\n",
       "\n",
       "    .dataframe tbody tr th {\n",
       "        vertical-align: top;\n",
       "    }\n",
       "\n",
       "    .dataframe thead tr th {\n",
       "        text-align: left;\n",
       "    }\n",
       "</style>\n",
       "<table border=\"1\" class=\"dataframe\">\n",
       "  <thead>\n",
       "    <tr>\n",
       "      <th></th>\n",
       "      <th>cluster</th>\n",
       "      <th>Murder</th>\n",
       "      <th>Assault</th>\n",
       "      <th>UrbanPop</th>\n",
       "      <th>Rape</th>\n",
       "    </tr>\n",
       "    <tr>\n",
       "      <th></th>\n",
       "      <th></th>\n",
       "      <th>mean</th>\n",
       "      <th>mean</th>\n",
       "      <th>mean</th>\n",
       "      <th>mean</th>\n",
       "    </tr>\n",
       "  </thead>\n",
       "  <tbody>\n",
       "    <tr>\n",
       "      <th>0</th>\n",
       "      <td>0</td>\n",
       "      <td>0.045019</td>\n",
       "      <td>0.958570</td>\n",
       "      <td>0.252999</td>\n",
       "      <td>0.102582</td>\n",
       "    </tr>\n",
       "    <tr>\n",
       "      <th>1</th>\n",
       "      <td>1</td>\n",
       "      <td>0.035272</td>\n",
       "      <td>0.845448</td>\n",
       "      <td>0.515796</td>\n",
       "      <td>0.120321</td>\n",
       "    </tr>\n",
       "    <tr>\n",
       "      <th>2</th>\n",
       "      <td>2</td>\n",
       "      <td>0.024747</td>\n",
       "      <td>0.692244</td>\n",
       "      <td>0.707394</td>\n",
       "      <td>0.130090</td>\n",
       "    </tr>\n",
       "    <tr>\n",
       "      <th>3</th>\n",
       "      <td>3</td>\n",
       "      <td>0.044328</td>\n",
       "      <td>0.902815</td>\n",
       "      <td>0.403400</td>\n",
       "      <td>0.134434</td>\n",
       "    </tr>\n",
       "    <tr>\n",
       "      <th>4</th>\n",
       "      <td>4</td>\n",
       "      <td>0.054546</td>\n",
       "      <td>0.473419</td>\n",
       "      <td>0.854213</td>\n",
       "      <td>0.207893</td>\n",
       "    </tr>\n",
       "  </tbody>\n",
       "</table>\n",
       "</div>"
      ],
      "text/plain": [
       "  cluster    Murder   Assault  UrbanPop      Rape\n",
       "               mean      mean      mean      mean\n",
       "0       0  0.045019  0.958570  0.252999  0.102582\n",
       "1       1  0.035272  0.845448  0.515796  0.120321\n",
       "2       2  0.024747  0.692244  0.707394  0.130090\n",
       "3       3  0.044328  0.902815  0.403400  0.134434\n",
       "4       4  0.054546  0.473419  0.854213  0.207893"
      ]
     },
     "execution_count": 12,
     "metadata": {},
     "output_type": "execute_result"
    }
   ],
   "source": [
    "crime2.groupby('cluster').agg(['mean']).reset_index()"
   ]
  },
  {
   "cell_type": "code",
   "execution_count": 13,
   "id": "16d1b294",
   "metadata": {
    "ExecuteTime": {
     "end_time": "2023-02-03T10:37:56.732157Z",
     "start_time": "2023-02-03T10:37:55.783612Z"
    }
   },
   "outputs": [
    {
     "data": {
      "text/plain": [
       "<matplotlib.collections.PathCollection at 0x23ff3058550>"
      ]
     },
     "execution_count": 13,
     "metadata": {},
     "output_type": "execute_result"
    },
    {
     "data": {
      "image/png": "[encoded data removed]",
      "text/plain": [
       "<Figure size 1000x700 with 1 Axes>"
      ]
     },
     "metadata": {},
     "output_type": "display_data"
    }
   ],
   "source": [
    "# plot clusters\n",
    "\n",
    "plt.figure(figsize=(10,7))\n",
    "plt.scatter(crime2['cluster'], crime2['UrbanPop'], c=hcluster.labels_)"
   ]
  },
  {
   "cell_type": "markdown",
   "id": "b494877f",
   "metadata": {},
   "source": [
    "# K- means clustering"
   ]
  },
  {
   "cell_type": "markdown",
   "id": "85790460",
   "metadata": {},
   "source": [
    "data is already loaded in crime"
   ]
  },
  {
   "cell_type": "code",
   "execution_count": 14,
   "id": "a001e3a9",
   "metadata": {
    "ExecuteTime": {
     "end_time": "2023-02-03T10:37:56.830307Z",
     "start_time": "2023-02-03T10:37:56.779001Z"
    }
   },
   "outputs": [
    {
     "data": {
      "text/html": [
       "<div>\n",
       "<style scoped>\n",
       "    .dataframe tbody tr th:only-of-type {\n",
       "        vertical-align: middle;\n",
       "    }\n",
       "\n",
       "    .dataframe tbody tr th {\n",
       "        vertical-align: top;\n",
       "    }\n",
       "\n",
       "    .dataframe thead th {\n",
       "        text-align: right;\n",
       "    }\n",
       "</style>\n",
       "<table border=\"1\" class=\"dataframe\">\n",
       "  <thead>\n",
       "    <tr style=\"text-align: right;\">\n",
       "      <th></th>\n",
       "      <th>Unnamed: 0</th>\n",
       "      <th>Murder</th>\n",
       "      <th>Assault</th>\n",
       "      <th>UrbanPop</th>\n",
       "      <th>Rape</th>\n",
       "    </tr>\n",
       "  </thead>\n",
       "  <tbody>\n",
       "    <tr>\n",
       "      <th>0</th>\n",
       "      <td>Alabama</td>\n",
       "      <td>13.2</td>\n",
       "      <td>236</td>\n",
       "      <td>58</td>\n",
       "      <td>21.2</td>\n",
       "    </tr>\n",
       "    <tr>\n",
       "      <th>1</th>\n",
       "      <td>Alaska</td>\n",
       "      <td>10.0</td>\n",
       "      <td>263</td>\n",
       "      <td>48</td>\n",
       "      <td>44.5</td>\n",
       "    </tr>\n",
       "    <tr>\n",
       "      <th>2</th>\n",
       "      <td>Arizona</td>\n",
       "      <td>8.1</td>\n",
       "      <td>294</td>\n",
       "      <td>80</td>\n",
       "      <td>31.0</td>\n",
       "    </tr>\n",
       "    <tr>\n",
       "      <th>3</th>\n",
       "      <td>Arkansas</td>\n",
       "      <td>8.8</td>\n",
       "      <td>190</td>\n",
       "      <td>50</td>\n",
       "      <td>19.5</td>\n",
       "    </tr>\n",
       "    <tr>\n",
       "      <th>4</th>\n",
       "      <td>California</td>\n",
       "      <td>9.0</td>\n",
       "      <td>276</td>\n",
       "      <td>91</td>\n",
       "      <td>40.6</td>\n",
       "    </tr>\n",
       "  </tbody>\n",
       "</table>\n",
       "</div>"
      ],
      "text/plain": [
       "   Unnamed: 0  Murder  Assault  UrbanPop  Rape\n",
       "0     Alabama    13.2      236        58  21.2\n",
       "1      Alaska    10.0      263        48  44.5\n",
       "2     Arizona     8.1      294        80  31.0\n",
       "3    Arkansas     8.8      190        50  19.5\n",
       "4  California     9.0      276        91  40.6"
      ]
     },
     "execution_count": 14,
     "metadata": {},
     "output_type": "execute_result"
    }
   ],
   "source": [
    "crime.head()"
   ]
  },
  {
   "cell_type": "code",
   "execution_count": 15,
   "id": "8590308b",
   "metadata": {
    "ExecuteTime": {
     "end_time": "2023-02-03T10:37:56.878479Z",
     "start_time": "2023-02-03T10:37:56.830307Z"
    }
   },
   "outputs": [
    {
     "data": {
      "text/html": [
       "<div>\n",
       "<style scoped>\n",
       "    .dataframe tbody tr th:only-of-type {\n",
       "        vertical-align: middle;\n",
       "    }\n",
       "\n",
       "    .dataframe tbody tr th {\n",
       "        vertical-align: top;\n",
       "    }\n",
       "\n",
       "    .dataframe thead th {\n",
       "        text-align: right;\n",
       "    }\n",
       "</style>\n",
       "<table border=\"1\" class=\"dataframe\">\n",
       "  <thead>\n",
       "    <tr style=\"text-align: right;\">\n",
       "      <th></th>\n",
       "      <th>Murder</th>\n",
       "      <th>Assault</th>\n",
       "      <th>UrbanPop</th>\n",
       "      <th>Rape</th>\n",
       "    </tr>\n",
       "  </thead>\n",
       "  <tbody>\n",
       "    <tr>\n",
       "      <th>0</th>\n",
       "      <td>13.2</td>\n",
       "      <td>236</td>\n",
       "      <td>58</td>\n",
       "      <td>21.2</td>\n",
       "    </tr>\n",
       "    <tr>\n",
       "      <th>1</th>\n",
       "      <td>10.0</td>\n",
       "      <td>263</td>\n",
       "      <td>48</td>\n",
       "      <td>44.5</td>\n",
       "    </tr>\n",
       "    <tr>\n",
       "      <th>2</th>\n",
       "      <td>8.1</td>\n",
       "      <td>294</td>\n",
       "      <td>80</td>\n",
       "      <td>31.0</td>\n",
       "    </tr>\n",
       "    <tr>\n",
       "      <th>3</th>\n",
       "      <td>8.8</td>\n",
       "      <td>190</td>\n",
       "      <td>50</td>\n",
       "      <td>19.5</td>\n",
       "    </tr>\n",
       "    <tr>\n",
       "      <th>4</th>\n",
       "      <td>9.0</td>\n",
       "      <td>276</td>\n",
       "      <td>91</td>\n",
       "      <td>40.6</td>\n",
       "    </tr>\n",
       "  </tbody>\n",
       "</table>\n",
       "</div>"
      ],
      "text/plain": [
       "   Murder  Assault  UrbanPop  Rape\n",
       "0    13.2      236        58  21.2\n",
       "1    10.0      263        48  44.5\n",
       "2     8.1      294        80  31.0\n",
       "3     8.8      190        50  19.5\n",
       "4     9.0      276        91  40.6"
      ]
     },
     "execution_count": 15,
     "metadata": {},
     "output_type": "execute_result"
    }
   ],
   "source": [
    "crime2 = crime.drop('Unnamed: 0', axis=1)\n",
    "crime2.head()"
   ]
  },
  {
   "cell_type": "code",
   "execution_count": 16,
   "id": "5be2167e",
   "metadata": {
    "ExecuteTime": {
     "end_time": "2023-02-03T10:38:06.449644Z",
     "start_time": "2023-02-03T10:37:56.879414Z"
    }
   },
   "outputs": [
    {
     "data": {
      "image/png": "[encoded data removed]",
      "text/plain": [
       "<Figure size 1000x1000 with 20 Axes>"
      ]
     },
     "metadata": {},
     "output_type": "display_data"
    }
   ],
   "source": [
    "sns.pairplot(crime2)\n",
    "plt.show()"
   ]
  },
  {
   "cell_type": "code",
   "execution_count": 17,
   "id": "f4140d7e",
   "metadata": {
    "ExecuteTime": {
     "end_time": "2023-02-03T10:38:06.473039Z",
     "start_time": "2023-02-03T10:38:06.452364Z"
    }
   },
   "outputs": [],
   "source": [
    "from sklearn.preprocessing import StandardScaler"
   ]
  },
  {
   "cell_type": "code",
   "execution_count": 18,
   "id": "a6853f3b",
   "metadata": {
    "ExecuteTime": {
     "end_time": "2023-02-03T10:38:06.501021Z",
     "start_time": "2023-02-03T10:38:06.476375Z"
    }
   },
   "outputs": [],
   "source": [
    "# Normalize heterogenous numerical data by using Standard Scaler\n",
    "\n",
    "sc = StandardScaler()"
   ]
  },
  {
   "cell_type": "code",
   "execution_count": 19,
   "id": "4bdae143",
   "metadata": {
    "ExecuteTime": {
     "end_time": "2023-02-03T10:38:06.534217Z",
     "start_time": "2023-02-03T10:38:06.505984Z"
    }
   },
   "outputs": [],
   "source": [
    "crime2_norm = sc.fit_transform(crime2)"
   ]
  },
  {
   "cell_type": "markdown",
   "id": "e0f923e3",
   "metadata": {},
   "source": [
    "Use Elbow Graph to find optimum number of  clusters (K value) from K values range\n",
    "\n",
    "The K-means algorithm aims to choose centroids that minimise the inertia, or within-cluster sum-of-squares criterion WCSS \n",
    "\n",
    "random state can be anything from 0 to 42, but the same number to be used everytime,so that the results don't change.\n"
   ]
  },
  {
   "cell_type": "code",
   "execution_count": 20,
   "id": "262b2049",
   "metadata": {
    "ExecuteTime": {
     "end_time": "2023-02-03T10:38:07.456561Z",
     "start_time": "2023-02-03T10:38:06.535683Z"
    }
   },
   "outputs": [],
   "source": [
    "# within-cluster sum-of-squares criterion \n",
    "\n",
    "vcss = []\n",
    "\n",
    "for i in range(1,11):\n",
    "    kmeans = KMeans(n_clusters=i, random_state=2).fit(crime2_norm)\n",
    "    vcss.append(kmeans.inertia_)"
   ]
  },
  {
   "cell_type": "code",
   "execution_count": 21,
   "id": "6a57b066",
   "metadata": {
    "ExecuteTime": {
     "end_time": "2023-02-03T10:38:08.026071Z",
     "start_time": "2023-02-03T10:38:07.456561Z"
    }
   },
   "outputs": [
    {
     "data": {
      "image/png": "[encoded data removed]",
      "text/plain": [
       "<Figure size 640x480 with 1 Axes>"
      ]
     },
     "metadata": {},
     "output_type": "display_data"
    }
   ],
   "source": [
    "plt.plot(range(1,11), vcss)\n",
    "plt.title('Elbow Graph')\n",
    "plt.xlabel('Number of Cluster')\n",
    "plt.ylabel('VCSS')\n",
    "plt.show()"
   ]
  },
  {
   "cell_type": "markdown",
   "id": "47f70ed3",
   "metadata": {},
   "source": [
    "## Build cluster using K=4"
   ]
  },
  {
   "cell_type": "code",
   "execution_count": 22,
   "id": "baa116be",
   "metadata": {
    "ExecuteTime": {
     "end_time": "2023-02-03T10:38:08.142863Z",
     "start_time": "2023-02-03T10:38:08.027213Z"
    }
   },
   "outputs": [
    {
     "data": {
      "text/html": [
       "<style>#sk-container-id-2 {color: black;background-color: white;}#sk-container-id-2 pre{padding: 0;}#sk-container-id-2 div.sk-toggleable {background-color: white;}#sk-container-id-2 label.sk-toggleable__label {cursor: pointer;display: block;width: 100%;margin-bottom: 0;padding: 0.3em;box-sizing: border-box;text-align: center;}#sk-container-id-2 label.sk-toggleable__label-arrow:before {content: \"▸\";float: left;margin-right: 0.25em;color: #696969;}#sk-container-id-2 label.sk-toggleable__label-arrow:hover:before {color: black;}#sk-container-id-2 div.sk-estimator:hover label.sk-toggleable__label-arrow:before {color: black;}#sk-container-id-2 div.sk-toggleable__content {max-height: 0;max-width: 0;overflow: hidden;text-align: left;background-color: #f0f8ff;}#sk-container-id-2 div.sk-toggleable__content pre {margin: 0.2em;color: black;border-radius: 0.25em;background-color: #f0f8ff;}#sk-container-id-2 input.sk-toggleable__control:checked~div.sk-toggleable__content {max-height: 200px;max-width: 100%;overflow: auto;}#sk-container-id-2 input.sk-toggleable__control:checked~label.sk-toggleable__label-arrow:before {content: \"▾\";}#sk-container-id-2 div.sk-estimator input.sk-toggleable__control:checked~label.sk-toggleable__label {background-color: #d4ebff;}#sk-container-id-2 div.sk-label input.sk-toggleable__control:checked~label.sk-toggleable__label {background-color: #d4ebff;}#sk-container-id-2 input.sk-hidden--visually {border: 0;clip: rect(1px 1px 1px 1px);clip: rect(1px, 1px, 1px, 1px);height: 1px;margin: -1px;overflow: hidden;padding: 0;position: absolute;width: 1px;}#sk-container-id-2 div.sk-estimator {font-family: monospace;background-color: #f0f8ff;border: 1px dotted black;border-radius: 0.25em;box-sizing: border-box;margin-bottom: 0.5em;}#sk-container-id-2 div.sk-estimator:hover {background-color: #d4ebff;}#sk-container-id-2 div.sk-parallel-item::after {content: \"\";width: 100%;border-bottom: 1px solid gray;flex-grow: 1;}#sk-container-id-2 div.sk-label:hover label.sk-toggleable__label {background-color: #d4ebff;}#sk-container-id-2 div.sk-serial::before {content: \"\";position: absolute;border-left: 1px solid gray;box-sizing: border-box;top: 0;bottom: 0;left: 50%;z-index: 0;}#sk-container-id-2 div.sk-serial {display: flex;flex-direction: column;align-items: center;background-color: white;padding-right: 0.2em;padding-left: 0.2em;position: relative;}#sk-container-id-2 div.sk-item {position: relative;z-index: 1;}#sk-container-id-2 div.sk-parallel {display: flex;align-items: stretch;justify-content: center;background-color: white;position: relative;}#sk-container-id-2 div.sk-item::before, #sk-container-id-2 div.sk-parallel-item::before {content: \"\";position: absolute;border-left: 1px solid gray;box-sizing: border-box;top: 0;bottom: 0;left: 50%;z-index: -1;}#sk-container-id-2 div.sk-parallel-item {display: flex;flex-direction: column;z-index: 1;position: relative;background-color: white;}#sk-container-id-2 div.sk-parallel-item:first-child::after {align-self: flex-end;width: 50%;}#sk-container-id-2 div.sk-parallel-item:last-child::after {align-self: flex-start;width: 50%;}#sk-container-id-2 div.sk-parallel-item:only-child::after {width: 0;}#sk-container-id-2 div.sk-dashed-wrapped {border: 1px dashed gray;margin: 0 0.4em 0.5em 0.4em;box-sizing: border-box;padding-bottom: 0.4em;background-color: white;}#sk-container-id-2 div.sk-label label {font-family: monospace;font-weight: bold;display: inline-block;line-height: 1.2em;}#sk-container-id-2 div.sk-label-container {text-align: center;}#sk-container-id-2 div.sk-container {/* jupyter's `normalize.less` sets `[hidden] { display: none; }` but bootstrap.min.css set `[hidden] { display: none !important; }` so we also need the `!important` here to be able to override the default hidden behavior on the sphinx rendered scikit-learn.org. See: https://github.com/scikit-learn/scikit-learn/issues/21755 */display: inline-block !important;position: relative;}#sk-container-id-2 div.sk-text-repr-fallback {display: none;}</style><div id=\"sk-container-id-2\" class=\"sk-top-container\"><div class=\"sk-text-repr-fallback\"><pre>KMeans(n_clusters=4, random_state=30)</pre><b>In a Jupyter environment, please rerun this cell to show the HTML representation or trust the notebook. <br />On GitHub, the HTML representation is unable to render, please try loading this page with nbviewer.org.</b></div><div class=\"sk-container\" hidden><div class=\"sk-item\"><div class=\"sk-estimator sk-toggleable\"><input class=\"sk-toggleable__control sk-hidden--visually\" id=\"sk-estimator-id-2\" type=\"checkbox\" checked><label for=\"sk-estimator-id-2\" class=\"sk-toggleable__label sk-toggleable__label-arrow\">KMeans</label><div class=\"sk-toggleable__content\"><pre>KMeans(n_clusters=4, random_state=30)</pre></div></div></div></div></div>"
      ],
      "text/plain": [
       "KMeans(n_clusters=4, random_state=30)"
      ]
     },
     "execution_count": 22,
     "metadata": {},
     "output_type": "execute_result"
    }
   ],
   "source": [
    "clusters4=KMeans(4,random_state=30).fit(crime2_norm)\n",
    "clusters4"
   ]
  },
  {
   "cell_type": "code",
   "execution_count": 23,
   "id": "a4539873",
   "metadata": {
    "ExecuteTime": {
     "end_time": "2023-02-03T10:38:08.174416Z",
     "start_time": "2023-02-03T10:38:08.145241Z"
    }
   },
   "outputs": [
    {
     "data": {
      "text/plain": [
       "array([0, 3, 3, 0, 3, 3, 1, 1, 3, 0, 1, 2, 3, 1, 2, 1, 2, 0, 2, 3, 1, 3,\n",
       "       2, 0, 3, 2, 2, 3, 2, 1, 3, 3, 0, 2, 1, 1, 1, 1, 1, 0, 2, 0, 3, 1,\n",
       "       2, 1, 1, 2, 2, 1])"
      ]
     },
     "execution_count": 23,
     "metadata": {},
     "output_type": "execute_result"
    }
   ],
   "source": [
    "clusters4.labels_"
   ]
  },
  {
   "cell_type": "code",
   "execution_count": 24,
   "id": "12eae0aa",
   "metadata": {
    "ExecuteTime": {
     "end_time": "2023-02-03T10:38:08.245085Z",
     "start_time": "2023-02-03T10:38:08.183768Z"
    }
   },
   "outputs": [
    {
     "data": {
      "text/html": [
       "<div>\n",
       "<style scoped>\n",
       "    .dataframe tbody tr th:only-of-type {\n",
       "        vertical-align: middle;\n",
       "    }\n",
       "\n",
       "    .dataframe tbody tr th {\n",
       "        vertical-align: top;\n",
       "    }\n",
       "\n",
       "    .dataframe thead th {\n",
       "        text-align: right;\n",
       "    }\n",
       "</style>\n",
       "<table border=\"1\" class=\"dataframe\">\n",
       "  <thead>\n",
       "    <tr style=\"text-align: right;\">\n",
       "      <th></th>\n",
       "      <th>Murder</th>\n",
       "      <th>Assault</th>\n",
       "      <th>UrbanPop</th>\n",
       "      <th>Rape</th>\n",
       "      <th>clusters4id</th>\n",
       "    </tr>\n",
       "  </thead>\n",
       "  <tbody>\n",
       "    <tr>\n",
       "      <th>0</th>\n",
       "      <td>13.2</td>\n",
       "      <td>236</td>\n",
       "      <td>58</td>\n",
       "      <td>21.2</td>\n",
       "      <td>0</td>\n",
       "    </tr>\n",
       "    <tr>\n",
       "      <th>1</th>\n",
       "      <td>10.0</td>\n",
       "      <td>263</td>\n",
       "      <td>48</td>\n",
       "      <td>44.5</td>\n",
       "      <td>3</td>\n",
       "    </tr>\n",
       "    <tr>\n",
       "      <th>2</th>\n",
       "      <td>8.1</td>\n",
       "      <td>294</td>\n",
       "      <td>80</td>\n",
       "      <td>31.0</td>\n",
       "      <td>3</td>\n",
       "    </tr>\n",
       "    <tr>\n",
       "      <th>3</th>\n",
       "      <td>8.8</td>\n",
       "      <td>190</td>\n",
       "      <td>50</td>\n",
       "      <td>19.5</td>\n",
       "      <td>0</td>\n",
       "    </tr>\n",
       "    <tr>\n",
       "      <th>4</th>\n",
       "      <td>9.0</td>\n",
       "      <td>276</td>\n",
       "      <td>91</td>\n",
       "      <td>40.6</td>\n",
       "      <td>3</td>\n",
       "    </tr>\n",
       "  </tbody>\n",
       "</table>\n",
       "</div>"
      ],
      "text/plain": [
       "   Murder  Assault  UrbanPop  Rape  clusters4id\n",
       "0    13.2      236        58  21.2            0\n",
       "1    10.0      263        48  44.5            3\n",
       "2     8.1      294        80  31.0            3\n",
       "3     8.8      190        50  19.5            0\n",
       "4     9.0      276        91  40.6            3"
      ]
     },
     "execution_count": 24,
     "metadata": {},
     "output_type": "execute_result"
    }
   ],
   "source": [
    "# Assign clusters to the data set\n",
    "\n",
    "crime4=crime2.copy()\n",
    "crime4['clusters4id']=clusters4.labels_\n",
    "crime4.head()"
   ]
  },
  {
   "cell_type": "code",
   "execution_count": 25,
   "id": "08dfab0b",
   "metadata": {
    "ExecuteTime": {
     "end_time": "2023-02-03T10:38:08.276174Z",
     "start_time": "2023-02-03T10:38:08.245565Z"
    }
   },
   "outputs": [
    {
     "data": {
      "text/plain": [
       "array([[ 1.42622412,  0.88321132, -0.82279055,  0.01946669],\n",
       "       [-0.49440658, -0.3864845 ,  0.58167593, -0.26431024],\n",
       "       [-0.97130281, -1.11783581, -0.93954982, -0.97657842],\n",
       "       [ 0.70212683,  1.04999438,  0.72997363,  1.28990383]])"
      ]
     },
     "execution_count": 25,
     "metadata": {},
     "output_type": "execute_result"
    }
   ],
   "source": [
    "# Compute the centroids for K=4 clusters with 4 variables\n",
    "\n",
    "clusters4.cluster_centers_"
   ]
  },
  {
   "cell_type": "code",
   "execution_count": 26,
   "id": "be12aab4",
   "metadata": {
    "ExecuteTime": {
     "end_time": "2023-02-03T10:38:08.343791Z",
     "start_time": "2023-02-03T10:38:08.276174Z"
    }
   },
   "outputs": [
    {
     "data": {
      "text/html": [
       "<div>\n",
       "<style scoped>\n",
       "    .dataframe tbody tr th:only-of-type {\n",
       "        vertical-align: middle;\n",
       "    }\n",
       "\n",
       "    .dataframe tbody tr th {\n",
       "        vertical-align: top;\n",
       "    }\n",
       "\n",
       "    .dataframe thead tr th {\n",
       "        text-align: left;\n",
       "    }\n",
       "</style>\n",
       "<table border=\"1\" class=\"dataframe\">\n",
       "  <thead>\n",
       "    <tr>\n",
       "      <th></th>\n",
       "      <th>clusters4id</th>\n",
       "      <th>Murder</th>\n",
       "      <th>Assault</th>\n",
       "      <th>UrbanPop</th>\n",
       "      <th>Rape</th>\n",
       "    </tr>\n",
       "    <tr>\n",
       "      <th></th>\n",
       "      <th></th>\n",
       "      <th>mean</th>\n",
       "      <th>mean</th>\n",
       "      <th>mean</th>\n",
       "      <th>mean</th>\n",
       "    </tr>\n",
       "  </thead>\n",
       "  <tbody>\n",
       "    <tr>\n",
       "      <th>0</th>\n",
       "      <td>0</td>\n",
       "      <td>13.937500</td>\n",
       "      <td>243.625000</td>\n",
       "      <td>53.750000</td>\n",
       "      <td>21.412500</td>\n",
       "    </tr>\n",
       "    <tr>\n",
       "      <th>1</th>\n",
       "      <td>1</td>\n",
       "      <td>5.656250</td>\n",
       "      <td>138.875000</td>\n",
       "      <td>73.875000</td>\n",
       "      <td>18.781250</td>\n",
       "    </tr>\n",
       "    <tr>\n",
       "      <th>2</th>\n",
       "      <td>2</td>\n",
       "      <td>3.600000</td>\n",
       "      <td>78.538462</td>\n",
       "      <td>52.076923</td>\n",
       "      <td>12.176923</td>\n",
       "    </tr>\n",
       "    <tr>\n",
       "      <th>3</th>\n",
       "      <td>3</td>\n",
       "      <td>10.815385</td>\n",
       "      <td>257.384615</td>\n",
       "      <td>76.000000</td>\n",
       "      <td>33.192308</td>\n",
       "    </tr>\n",
       "  </tbody>\n",
       "</table>\n",
       "</div>"
      ],
      "text/plain": [
       "  clusters4id     Murder     Assault   UrbanPop       Rape\n",
       "                    mean        mean       mean       mean\n",
       "0           0  13.937500  243.625000  53.750000  21.412500\n",
       "1           1   5.656250  138.875000  73.875000  18.781250\n",
       "2           2   3.600000   78.538462  52.076923  12.176923\n",
       "3           3  10.815385  257.384615  76.000000  33.192308"
      ]
     },
     "execution_count": 26,
     "metadata": {},
     "output_type": "execute_result"
    }
   ],
   "source": [
    "crime4.groupby('clusters4id').agg(['mean']).reset_index()"
   ]
  },
  {
   "cell_type": "code",
   "execution_count": 27,
   "id": "e917478b",
   "metadata": {
    "ExecuteTime": {
     "end_time": "2023-02-03T10:38:08.942707Z",
     "start_time": "2023-02-03T10:38:08.343791Z"
    }
   },
   "outputs": [
    {
     "data": {
      "image/png": "[encoded data removed]",
      "text/plain": [
       "<Figure size 1000x700 with 1 Axes>"
      ]
     },
     "metadata": {},
     "output_type": "display_data"
    }
   ],
   "source": [
    "# Plot Cluster\n",
    "\n",
    "plt.figure(figsize=(10,7))\n",
    "plt.scatter(crime4['clusters4id'], crime4['UrbanPop'], c=clusters4.labels_)\n",
    "plt.show()"
   ]
  },
  {
   "cell_type": "markdown",
   "id": "c91fcf45",
   "metadata": {},
   "source": [
    "## Building Cluster using K=5"
   ]
  },
  {
   "cell_type": "code",
   "execution_count": 28,
   "id": "ee3b36d4",
   "metadata": {
    "ExecuteTime": {
     "end_time": "2023-02-03T10:38:09.060211Z",
     "start_time": "2023-02-03T10:38:08.942707Z"
    }
   },
   "outputs": [
    {
     "data": {
      "text/html": [
       "<style>#sk-container-id-3 {color: black;background-color: white;}#sk-container-id-3 pre{padding: 0;}#sk-container-id-3 div.sk-toggleable {background-color: white;}#sk-container-id-3 label.sk-toggleable__label {cursor: pointer;display: block;width: 100%;margin-bottom: 0;padding: 0.3em;box-sizing: border-box;text-align: center;}#sk-container-id-3 label.sk-toggleable__label-arrow:before {content: \"▸\";float: left;margin-right: 0.25em;color: #696969;}#sk-container-id-3 label.sk-toggleable__label-arrow:hover:before {color: black;}#sk-container-id-3 div.sk-estimator:hover label.sk-toggleable__label-arrow:before {color: black;}#sk-container-id-3 div.sk-toggleable__content {max-height: 0;max-width: 0;overflow: hidden;text-align: left;background-color: #f0f8ff;}#sk-container-id-3 div.sk-toggleable__content pre {margin: 0.2em;color: black;border-radius: 0.25em;background-color: #f0f8ff;}#sk-container-id-3 input.sk-toggleable__control:checked~div.sk-toggleable__content {max-height: 200px;max-width: 100%;overflow: auto;}#sk-container-id-3 input.sk-toggleable__control:checked~label.sk-toggleable__label-arrow:before {content: \"▾\";}#sk-container-id-3 div.sk-estimator input.sk-toggleable__control:checked~label.sk-toggleable__label {background-color: #d4ebff;}#sk-container-id-3 div.sk-label input.sk-toggleable__control:checked~label.sk-toggleable__label {background-color: #d4ebff;}#sk-container-id-3 input.sk-hidden--visually {border: 0;clip: rect(1px 1px 1px 1px);clip: rect(1px, 1px, 1px, 1px);height: 1px;margin: -1px;overflow: hidden;padding: 0;position: absolute;width: 1px;}#sk-container-id-3 div.sk-estimator {font-family: monospace;background-color: #f0f8ff;border: 1px dotted black;border-radius: 0.25em;box-sizing: border-box;margin-bottom: 0.5em;}#sk-container-id-3 div.sk-estimator:hover {background-color: #d4ebff;}#sk-container-id-3 div.sk-parallel-item::after {content: \"\";width: 100%;border-bottom: 1px solid gray;flex-grow: 1;}#sk-container-id-3 div.sk-label:hover label.sk-toggleable__label {background-color: #d4ebff;}#sk-container-id-3 div.sk-serial::before {content: \"\";position: absolute;border-left: 1px solid gray;box-sizing: border-box;top: 0;bottom: 0;left: 50%;z-index: 0;}#sk-container-id-3 div.sk-serial {display: flex;flex-direction: column;align-items: center;background-color: white;padding-right: 0.2em;padding-left: 0.2em;position: relative;}#sk-container-id-3 div.sk-item {position: relative;z-index: 1;}#sk-container-id-3 div.sk-parallel {display: flex;align-items: stretch;justify-content: center;background-color: white;position: relative;}#sk-container-id-3 div.sk-item::before, #sk-container-id-3 div.sk-parallel-item::before {content: \"\";position: absolute;border-left: 1px solid gray;box-sizing: border-box;top: 0;bottom: 0;left: 50%;z-index: -1;}#sk-container-id-3 div.sk-parallel-item {display: flex;flex-direction: column;z-index: 1;position: relative;background-color: white;}#sk-container-id-3 div.sk-parallel-item:first-child::after {align-self: flex-end;width: 50%;}#sk-container-id-3 div.sk-parallel-item:last-child::after {align-self: flex-start;width: 50%;}#sk-container-id-3 div.sk-parallel-item:only-child::after {width: 0;}#sk-container-id-3 div.sk-dashed-wrapped {border: 1px dashed gray;margin: 0 0.4em 0.5em 0.4em;box-sizing: border-box;padding-bottom: 0.4em;background-color: white;}#sk-container-id-3 div.sk-label label {font-family: monospace;font-weight: bold;display: inline-block;line-height: 1.2em;}#sk-container-id-3 div.sk-label-container {text-align: center;}#sk-container-id-3 div.sk-container {/* jupyter's `normalize.less` sets `[hidden] { display: none; }` but bootstrap.min.css set `[hidden] { display: none !important; }` so we also need the `!important` here to be able to override the default hidden behavior on the sphinx rendered scikit-learn.org. See: https://github.com/scikit-learn/scikit-learn/issues/21755 */display: inline-block !important;position: relative;}#sk-container-id-3 div.sk-text-repr-fallback {display: none;}</style><div id=\"sk-container-id-3\" class=\"sk-top-container\"><div class=\"sk-text-repr-fallback\"><pre>KMeans(n_clusters=5, random_state=30)</pre><b>In a Jupyter environment, please rerun this cell to show the HTML representation or trust the notebook. <br />On GitHub, the HTML representation is unable to render, please try loading this page with nbviewer.org.</b></div><div class=\"sk-container\" hidden><div class=\"sk-item\"><div class=\"sk-estimator sk-toggleable\"><input class=\"sk-toggleable__control sk-hidden--visually\" id=\"sk-estimator-id-3\" type=\"checkbox\" checked><label for=\"sk-estimator-id-3\" class=\"sk-toggleable__label sk-toggleable__label-arrow\">KMeans</label><div class=\"sk-toggleable__content\"><pre>KMeans(n_clusters=5, random_state=30)</pre></div></div></div></div></div>"
      ],
      "text/plain": [
       "KMeans(n_clusters=5, random_state=30)"
      ]
     },
     "execution_count": 28,
     "metadata": {},
     "output_type": "execute_result"
    }
   ],
   "source": [
    "clusters5 = KMeans(5,random_state=30).fit(crime2_norm)\n",
    "clusters5"
   ]
  },
  {
   "cell_type": "code",
   "execution_count": 29,
   "id": "5fa52499",
   "metadata": {
    "ExecuteTime": {
     "end_time": "2023-02-03T10:38:09.092733Z",
     "start_time": "2023-02-03T10:38:09.061914Z"
    }
   },
   "outputs": [
    {
     "data": {
      "text/plain": [
       "array([1, 2, 2, 0, 2, 2, 4, 0, 2, 1, 4, 3, 2, 0, 3, 0, 0, 1, 3, 2, 4, 2,\n",
       "       3, 1, 0, 0, 0, 2, 3, 4, 2, 2, 1, 3, 0, 0, 0, 0, 4, 1, 3, 1, 2, 4,\n",
       "       3, 0, 0, 3, 3, 0])"
      ]
     },
     "execution_count": 29,
     "metadata": {},
     "output_type": "execute_result"
    }
   ],
   "source": [
    "clusters5.labels_"
   ]
  },
  {
   "cell_type": "code",
   "execution_count": 30,
   "id": "1cfaad63",
   "metadata": {
    "ExecuteTime": {
     "end_time": "2023-02-03T10:38:09.159352Z",
     "start_time": "2023-02-03T10:38:09.100037Z"
    }
   },
   "outputs": [
    {
     "data": {
      "text/html": [
       "<div>\n",
       "<style scoped>\n",
       "    .dataframe tbody tr th:only-of-type {\n",
       "        vertical-align: middle;\n",
       "    }\n",
       "\n",
       "    .dataframe tbody tr th {\n",
       "        vertical-align: top;\n",
       "    }\n",
       "\n",
       "    .dataframe thead th {\n",
       "        text-align: right;\n",
       "    }\n",
       "</style>\n",
       "<table border=\"1\" class=\"dataframe\">\n",
       "  <thead>\n",
       "    <tr style=\"text-align: right;\">\n",
       "      <th></th>\n",
       "      <th>Murder</th>\n",
       "      <th>Assault</th>\n",
       "      <th>UrbanPop</th>\n",
       "      <th>Rape</th>\n",
       "      <th>clusters5id</th>\n",
       "    </tr>\n",
       "  </thead>\n",
       "  <tbody>\n",
       "    <tr>\n",
       "      <th>0</th>\n",
       "      <td>13.2</td>\n",
       "      <td>236</td>\n",
       "      <td>58</td>\n",
       "      <td>21.2</td>\n",
       "      <td>1</td>\n",
       "    </tr>\n",
       "    <tr>\n",
       "      <th>1</th>\n",
       "      <td>10.0</td>\n",
       "      <td>263</td>\n",
       "      <td>48</td>\n",
       "      <td>44.5</td>\n",
       "      <td>2</td>\n",
       "    </tr>\n",
       "    <tr>\n",
       "      <th>2</th>\n",
       "      <td>8.1</td>\n",
       "      <td>294</td>\n",
       "      <td>80</td>\n",
       "      <td>31.0</td>\n",
       "      <td>2</td>\n",
       "    </tr>\n",
       "    <tr>\n",
       "      <th>3</th>\n",
       "      <td>8.8</td>\n",
       "      <td>190</td>\n",
       "      <td>50</td>\n",
       "      <td>19.5</td>\n",
       "      <td>0</td>\n",
       "    </tr>\n",
       "    <tr>\n",
       "      <th>4</th>\n",
       "      <td>9.0</td>\n",
       "      <td>276</td>\n",
       "      <td>91</td>\n",
       "      <td>40.6</td>\n",
       "      <td>2</td>\n",
       "    </tr>\n",
       "  </tbody>\n",
       "</table>\n",
       "</div>"
      ],
      "text/plain": [
       "   Murder  Assault  UrbanPop  Rape  clusters5id\n",
       "0    13.2      236        58  21.2            1\n",
       "1    10.0      263        48  44.5            2\n",
       "2     8.1      294        80  31.0            2\n",
       "3     8.8      190        50  19.5            0\n",
       "4     9.0      276        91  40.6            2"
      ]
     },
     "execution_count": 30,
     "metadata": {},
     "output_type": "execute_result"
    }
   ],
   "source": [
    "crime5 = crime2.copy()\n",
    "crime5['clusters5id']= clusters5.labels_\n",
    "crime5.head()"
   ]
  },
  {
   "cell_type": "code",
   "execution_count": 31,
   "id": "272abcf7",
   "metadata": {
    "ExecuteTime": {
     "end_time": "2023-02-03T10:38:09.194169Z",
     "start_time": "2023-02-03T10:38:09.161428Z"
    }
   },
   "outputs": [
    {
     "data": {
      "text/plain": [
       "array([[-0.23996529, -0.33082798, -0.0702524 , -0.1343076 ],\n",
       "       [ 1.59644066,  0.97606837, -0.78540457,  0.0489325 ],\n",
       "       [ 0.73721295,  1.13018079,  0.76486721,  1.33477166],\n",
       "       [-1.18467401, -1.2201201 , -1.01470522, -1.11321445],\n",
       "       [-0.76257011, -0.53850456,  1.25337729, -0.53550482]])"
      ]
     },
     "execution_count": 31,
     "metadata": {},
     "output_type": "execute_result"
    }
   ],
   "source": [
    "# Compute the centroids for K=5 clusters with 4 variables\n",
    "\n",
    "clusters5.cluster_centers_"
   ]
  },
  {
   "cell_type": "code",
   "execution_count": 32,
   "id": "06a49d35",
   "metadata": {
    "ExecuteTime": {
     "end_time": "2023-02-03T10:38:09.259338Z",
     "start_time": "2023-02-03T10:38:09.194853Z"
    }
   },
   "outputs": [
    {
     "data": {
      "text/html": [
       "<div>\n",
       "<style scoped>\n",
       "    .dataframe tbody tr th:only-of-type {\n",
       "        vertical-align: middle;\n",
       "    }\n",
       "\n",
       "    .dataframe tbody tr th {\n",
       "        vertical-align: top;\n",
       "    }\n",
       "\n",
       "    .dataframe thead tr th {\n",
       "        text-align: left;\n",
       "    }\n",
       "</style>\n",
       "<table border=\"1\" class=\"dataframe\">\n",
       "  <thead>\n",
       "    <tr>\n",
       "      <th></th>\n",
       "      <th>clusters5id</th>\n",
       "      <th>Murder</th>\n",
       "      <th>Assault</th>\n",
       "      <th>UrbanPop</th>\n",
       "      <th>Rape</th>\n",
       "    </tr>\n",
       "    <tr>\n",
       "      <th></th>\n",
       "      <th></th>\n",
       "      <th>mean</th>\n",
       "      <th>mean</th>\n",
       "      <th>mean</th>\n",
       "      <th>mean</th>\n",
       "    </tr>\n",
       "  </thead>\n",
       "  <tbody>\n",
       "    <tr>\n",
       "      <th>0</th>\n",
       "      <td>0</td>\n",
       "      <td>6.753333</td>\n",
       "      <td>143.466667</td>\n",
       "      <td>64.533333</td>\n",
       "      <td>19.986667</td>\n",
       "    </tr>\n",
       "    <tr>\n",
       "      <th>1</th>\n",
       "      <td>1</td>\n",
       "      <td>14.671429</td>\n",
       "      <td>251.285714</td>\n",
       "      <td>54.285714</td>\n",
       "      <td>21.685714</td>\n",
       "    </tr>\n",
       "    <tr>\n",
       "      <th>2</th>\n",
       "      <td>2</td>\n",
       "      <td>10.966667</td>\n",
       "      <td>264.000000</td>\n",
       "      <td>76.500000</td>\n",
       "      <td>33.608333</td>\n",
       "    </tr>\n",
       "    <tr>\n",
       "      <th>3</th>\n",
       "      <td>3</td>\n",
       "      <td>2.680000</td>\n",
       "      <td>70.100000</td>\n",
       "      <td>51.000000</td>\n",
       "      <td>10.910000</td>\n",
       "    </tr>\n",
       "    <tr>\n",
       "      <th>4</th>\n",
       "      <td>4</td>\n",
       "      <td>4.500000</td>\n",
       "      <td>126.333333</td>\n",
       "      <td>83.500000</td>\n",
       "      <td>16.266667</td>\n",
       "    </tr>\n",
       "  </tbody>\n",
       "</table>\n",
       "</div>"
      ],
      "text/plain": [
       "  clusters5id     Murder     Assault   UrbanPop       Rape\n",
       "                    mean        mean       mean       mean\n",
       "0           0   6.753333  143.466667  64.533333  19.986667\n",
       "1           1  14.671429  251.285714  54.285714  21.685714\n",
       "2           2  10.966667  264.000000  76.500000  33.608333\n",
       "3           3   2.680000   70.100000  51.000000  10.910000\n",
       "4           4   4.500000  126.333333  83.500000  16.266667"
      ]
     },
     "execution_count": 32,
     "metadata": {},
     "output_type": "execute_result"
    }
   ],
   "source": [
    "crime5.groupby('clusters5id').agg(['mean']).reset_index()"
   ]
  },
  {
   "cell_type": "code",
   "execution_count": 33,
   "id": "02dc8bb1",
   "metadata": {
    "ExecuteTime": {
     "end_time": "2023-02-03T10:38:10.041822Z",
     "start_time": "2023-02-03T10:38:09.259338Z"
    }
   },
   "outputs": [
    {
     "data": {
      "text/plain": [
       "<matplotlib.collections.PathCollection at 0x23ff43a1d00>"
      ]
     },
     "execution_count": 33,
     "metadata": {},
     "output_type": "execute_result"
    },
    {
     "data": {
      "image/png": "[encoded data removed]",
      "text/plain": [
       "<Figure size 640x480 with 1 Axes>"
      ]
     },
     "metadata": {},
     "output_type": "display_data"
    }
   ],
   "source": [
    "plt.scatter(crime5['clusters5id'], crime5['UrbanPop'], c=clusters5.labels_)"
   ]
  },
  {
   "cell_type": "markdown",
   "id": "b1c55bc4",
   "metadata": {},
   "source": [
    "# DBSCAN"
   ]
  },
  {
   "cell_type": "code",
   "execution_count": 34,
   "id": "44c7588d",
   "metadata": {
    "ExecuteTime": {
     "end_time": "2023-02-03T10:38:10.077620Z",
     "start_time": "2023-02-03T10:38:10.042728Z"
    }
   },
   "outputs": [
    {
     "data": {
      "text/html": [
       "<div>\n",
       "<style scoped>\n",
       "    .dataframe tbody tr th:only-of-type {\n",
       "        vertical-align: middle;\n",
       "    }\n",
       "\n",
       "    .dataframe tbody tr th {\n",
       "        vertical-align: top;\n",
       "    }\n",
       "\n",
       "    .dataframe thead th {\n",
       "        text-align: right;\n",
       "    }\n",
       "</style>\n",
       "<table border=\"1\" class=\"dataframe\">\n",
       "  <thead>\n",
       "    <tr style=\"text-align: right;\">\n",
       "      <th></th>\n",
       "      <th>Unnamed: 0</th>\n",
       "      <th>Murder</th>\n",
       "      <th>Assault</th>\n",
       "      <th>UrbanPop</th>\n",
       "      <th>Rape</th>\n",
       "    </tr>\n",
       "  </thead>\n",
       "  <tbody>\n",
       "    <tr>\n",
       "      <th>0</th>\n",
       "      <td>Alabama</td>\n",
       "      <td>13.2</td>\n",
       "      <td>236</td>\n",
       "      <td>58</td>\n",
       "      <td>21.2</td>\n",
       "    </tr>\n",
       "    <tr>\n",
       "      <th>1</th>\n",
       "      <td>Alaska</td>\n",
       "      <td>10.0</td>\n",
       "      <td>263</td>\n",
       "      <td>48</td>\n",
       "      <td>44.5</td>\n",
       "    </tr>\n",
       "    <tr>\n",
       "      <th>2</th>\n",
       "      <td>Arizona</td>\n",
       "      <td>8.1</td>\n",
       "      <td>294</td>\n",
       "      <td>80</td>\n",
       "      <td>31.0</td>\n",
       "    </tr>\n",
       "    <tr>\n",
       "      <th>3</th>\n",
       "      <td>Arkansas</td>\n",
       "      <td>8.8</td>\n",
       "      <td>190</td>\n",
       "      <td>50</td>\n",
       "      <td>19.5</td>\n",
       "    </tr>\n",
       "    <tr>\n",
       "      <th>4</th>\n",
       "      <td>California</td>\n",
       "      <td>9.0</td>\n",
       "      <td>276</td>\n",
       "      <td>91</td>\n",
       "      <td>40.6</td>\n",
       "    </tr>\n",
       "  </tbody>\n",
       "</table>\n",
       "</div>"
      ],
      "text/plain": [
       "   Unnamed: 0  Murder  Assault  UrbanPop  Rape\n",
       "0     Alabama    13.2      236        58  21.2\n",
       "1      Alaska    10.0      263        48  44.5\n",
       "2     Arizona     8.1      294        80  31.0\n",
       "3    Arkansas     8.8      190        50  19.5\n",
       "4  California     9.0      276        91  40.6"
      ]
     },
     "execution_count": 34,
     "metadata": {},
     "output_type": "execute_result"
    }
   ],
   "source": [
    "crime.head()"
   ]
  },
  {
   "cell_type": "code",
   "execution_count": 35,
   "id": "6729be57",
   "metadata": {
    "ExecuteTime": {
     "end_time": "2023-02-03T10:38:10.109609Z",
     "start_time": "2023-02-03T10:38:10.077620Z"
    }
   },
   "outputs": [
    {
     "name": "stdout",
     "output_type": "stream",
     "text": [
      "<class 'pandas.core.frame.DataFrame'>\n",
      "RangeIndex: 50 entries, 0 to 49\n",
      "Data columns (total 5 columns):\n",
      " #   Column      Non-Null Count  Dtype  \n",
      "---  ------      --------------  -----  \n",
      " 0   Unnamed: 0  50 non-null     object \n",
      " 1   Murder      50 non-null     float64\n",
      " 2   Assault     50 non-null     int64  \n",
      " 3   UrbanPop    50 non-null     int64  \n",
      " 4   Rape        50 non-null     float64\n",
      "dtypes: float64(2), int64(2), object(1)\n",
      "memory usage: 2.1+ KB\n"
     ]
    }
   ],
   "source": [
    "crime.info()"
   ]
  },
  {
   "cell_type": "code",
   "execution_count": 36,
   "id": "17dc78c4",
   "metadata": {
    "ExecuteTime": {
     "end_time": "2023-02-03T10:38:10.175927Z",
     "start_time": "2023-02-03T10:38:10.109609Z"
    }
   },
   "outputs": [
    {
     "data": {
      "text/html": [
       "<div>\n",
       "<style scoped>\n",
       "    .dataframe tbody tr th:only-of-type {\n",
       "        vertical-align: middle;\n",
       "    }\n",
       "\n",
       "    .dataframe tbody tr th {\n",
       "        vertical-align: top;\n",
       "    }\n",
       "\n",
       "    .dataframe thead th {\n",
       "        text-align: right;\n",
       "    }\n",
       "</style>\n",
       "<table border=\"1\" class=\"dataframe\">\n",
       "  <thead>\n",
       "    <tr style=\"text-align: right;\">\n",
       "      <th></th>\n",
       "      <th>Murder</th>\n",
       "      <th>Assault</th>\n",
       "      <th>UrbanPop</th>\n",
       "      <th>Rape</th>\n",
       "    </tr>\n",
       "  </thead>\n",
       "  <tbody>\n",
       "    <tr>\n",
       "      <th>0</th>\n",
       "      <td>13.2</td>\n",
       "      <td>236</td>\n",
       "      <td>58</td>\n",
       "      <td>21.2</td>\n",
       "    </tr>\n",
       "    <tr>\n",
       "      <th>1</th>\n",
       "      <td>10.0</td>\n",
       "      <td>263</td>\n",
       "      <td>48</td>\n",
       "      <td>44.5</td>\n",
       "    </tr>\n",
       "    <tr>\n",
       "      <th>2</th>\n",
       "      <td>8.1</td>\n",
       "      <td>294</td>\n",
       "      <td>80</td>\n",
       "      <td>31.0</td>\n",
       "    </tr>\n",
       "    <tr>\n",
       "      <th>3</th>\n",
       "      <td>8.8</td>\n",
       "      <td>190</td>\n",
       "      <td>50</td>\n",
       "      <td>19.5</td>\n",
       "    </tr>\n",
       "    <tr>\n",
       "      <th>4</th>\n",
       "      <td>9.0</td>\n",
       "      <td>276</td>\n",
       "      <td>91</td>\n",
       "      <td>40.6</td>\n",
       "    </tr>\n",
       "    <tr>\n",
       "      <th>5</th>\n",
       "      <td>7.9</td>\n",
       "      <td>204</td>\n",
       "      <td>78</td>\n",
       "      <td>38.7</td>\n",
       "    </tr>\n",
       "    <tr>\n",
       "      <th>6</th>\n",
       "      <td>3.3</td>\n",
       "      <td>110</td>\n",
       "      <td>77</td>\n",
       "      <td>11.1</td>\n",
       "    </tr>\n",
       "    <tr>\n",
       "      <th>7</th>\n",
       "      <td>5.9</td>\n",
       "      <td>238</td>\n",
       "      <td>72</td>\n",
       "      <td>15.8</td>\n",
       "    </tr>\n",
       "    <tr>\n",
       "      <th>8</th>\n",
       "      <td>15.4</td>\n",
       "      <td>335</td>\n",
       "      <td>80</td>\n",
       "      <td>31.9</td>\n",
       "    </tr>\n",
       "    <tr>\n",
       "      <th>9</th>\n",
       "      <td>17.4</td>\n",
       "      <td>211</td>\n",
       "      <td>60</td>\n",
       "      <td>25.8</td>\n",
       "    </tr>\n",
       "    <tr>\n",
       "      <th>10</th>\n",
       "      <td>5.3</td>\n",
       "      <td>46</td>\n",
       "      <td>83</td>\n",
       "      <td>20.2</td>\n",
       "    </tr>\n",
       "    <tr>\n",
       "      <th>11</th>\n",
       "      <td>2.6</td>\n",
       "      <td>120</td>\n",
       "      <td>54</td>\n",
       "      <td>14.2</td>\n",
       "    </tr>\n",
       "    <tr>\n",
       "      <th>12</th>\n",
       "      <td>10.4</td>\n",
       "      <td>249</td>\n",
       "      <td>83</td>\n",
       "      <td>24.0</td>\n",
       "    </tr>\n",
       "    <tr>\n",
       "      <th>13</th>\n",
       "      <td>7.2</td>\n",
       "      <td>113</td>\n",
       "      <td>65</td>\n",
       "      <td>21.0</td>\n",
       "    </tr>\n",
       "    <tr>\n",
       "      <th>14</th>\n",
       "      <td>2.2</td>\n",
       "      <td>56</td>\n",
       "      <td>57</td>\n",
       "      <td>11.3</td>\n",
       "    </tr>\n",
       "    <tr>\n",
       "      <th>15</th>\n",
       "      <td>6.0</td>\n",
       "      <td>115</td>\n",
       "      <td>66</td>\n",
       "      <td>18.0</td>\n",
       "    </tr>\n",
       "    <tr>\n",
       "      <th>16</th>\n",
       "      <td>9.7</td>\n",
       "      <td>109</td>\n",
       "      <td>52</td>\n",
       "      <td>16.3</td>\n",
       "    </tr>\n",
       "    <tr>\n",
       "      <th>17</th>\n",
       "      <td>15.4</td>\n",
       "      <td>249</td>\n",
       "      <td>66</td>\n",
       "      <td>22.2</td>\n",
       "    </tr>\n",
       "    <tr>\n",
       "      <th>18</th>\n",
       "      <td>2.1</td>\n",
       "      <td>83</td>\n",
       "      <td>51</td>\n",
       "      <td>7.8</td>\n",
       "    </tr>\n",
       "    <tr>\n",
       "      <th>19</th>\n",
       "      <td>11.3</td>\n",
       "      <td>300</td>\n",
       "      <td>67</td>\n",
       "      <td>27.8</td>\n",
       "    </tr>\n",
       "    <tr>\n",
       "      <th>20</th>\n",
       "      <td>4.4</td>\n",
       "      <td>149</td>\n",
       "      <td>85</td>\n",
       "      <td>16.3</td>\n",
       "    </tr>\n",
       "    <tr>\n",
       "      <th>21</th>\n",
       "      <td>12.1</td>\n",
       "      <td>255</td>\n",
       "      <td>74</td>\n",
       "      <td>35.1</td>\n",
       "    </tr>\n",
       "    <tr>\n",
       "      <th>22</th>\n",
       "      <td>2.7</td>\n",
       "      <td>72</td>\n",
       "      <td>66</td>\n",
       "      <td>14.9</td>\n",
       "    </tr>\n",
       "    <tr>\n",
       "      <th>23</th>\n",
       "      <td>16.1</td>\n",
       "      <td>259</td>\n",
       "      <td>44</td>\n",
       "      <td>17.1</td>\n",
       "    </tr>\n",
       "    <tr>\n",
       "      <th>24</th>\n",
       "      <td>9.0</td>\n",
       "      <td>178</td>\n",
       "      <td>70</td>\n",
       "      <td>28.2</td>\n",
       "    </tr>\n",
       "    <tr>\n",
       "      <th>25</th>\n",
       "      <td>6.0</td>\n",
       "      <td>109</td>\n",
       "      <td>53</td>\n",
       "      <td>16.4</td>\n",
       "    </tr>\n",
       "    <tr>\n",
       "      <th>26</th>\n",
       "      <td>4.3</td>\n",
       "      <td>102</td>\n",
       "      <td>62</td>\n",
       "      <td>16.5</td>\n",
       "    </tr>\n",
       "    <tr>\n",
       "      <th>27</th>\n",
       "      <td>12.2</td>\n",
       "      <td>252</td>\n",
       "      <td>81</td>\n",
       "      <td>46.0</td>\n",
       "    </tr>\n",
       "    <tr>\n",
       "      <th>28</th>\n",
       "      <td>2.1</td>\n",
       "      <td>57</td>\n",
       "      <td>56</td>\n",
       "      <td>9.5</td>\n",
       "    </tr>\n",
       "    <tr>\n",
       "      <th>29</th>\n",
       "      <td>7.4</td>\n",
       "      <td>159</td>\n",
       "      <td>89</td>\n",
       "      <td>18.8</td>\n",
       "    </tr>\n",
       "    <tr>\n",
       "      <th>30</th>\n",
       "      <td>11.4</td>\n",
       "      <td>285</td>\n",
       "      <td>70</td>\n",
       "      <td>32.1</td>\n",
       "    </tr>\n",
       "    <tr>\n",
       "      <th>31</th>\n",
       "      <td>11.1</td>\n",
       "      <td>254</td>\n",
       "      <td>86</td>\n",
       "      <td>26.1</td>\n",
       "    </tr>\n",
       "    <tr>\n",
       "      <th>32</th>\n",
       "      <td>13.0</td>\n",
       "      <td>337</td>\n",
       "      <td>45</td>\n",
       "      <td>16.1</td>\n",
       "    </tr>\n",
       "    <tr>\n",
       "      <th>33</th>\n",
       "      <td>0.8</td>\n",
       "      <td>45</td>\n",
       "      <td>44</td>\n",
       "      <td>7.3</td>\n",
       "    </tr>\n",
       "    <tr>\n",
       "      <th>34</th>\n",
       "      <td>7.3</td>\n",
       "      <td>120</td>\n",
       "      <td>75</td>\n",
       "      <td>21.4</td>\n",
       "    </tr>\n",
       "    <tr>\n",
       "      <th>35</th>\n",
       "      <td>6.6</td>\n",
       "      <td>151</td>\n",
       "      <td>68</td>\n",
       "      <td>20.0</td>\n",
       "    </tr>\n",
       "    <tr>\n",
       "      <th>36</th>\n",
       "      <td>4.9</td>\n",
       "      <td>159</td>\n",
       "      <td>67</td>\n",
       "      <td>29.3</td>\n",
       "    </tr>\n",
       "    <tr>\n",
       "      <th>37</th>\n",
       "      <td>6.3</td>\n",
       "      <td>106</td>\n",
       "      <td>72</td>\n",
       "      <td>14.9</td>\n",
       "    </tr>\n",
       "    <tr>\n",
       "      <th>38</th>\n",
       "      <td>3.4</td>\n",
       "      <td>174</td>\n",
       "      <td>87</td>\n",
       "      <td>8.3</td>\n",
       "    </tr>\n",
       "    <tr>\n",
       "      <th>39</th>\n",
       "      <td>14.4</td>\n",
       "      <td>279</td>\n",
       "      <td>48</td>\n",
       "      <td>22.5</td>\n",
       "    </tr>\n",
       "    <tr>\n",
       "      <th>40</th>\n",
       "      <td>3.8</td>\n",
       "      <td>86</td>\n",
       "      <td>45</td>\n",
       "      <td>12.8</td>\n",
       "    </tr>\n",
       "    <tr>\n",
       "      <th>41</th>\n",
       "      <td>13.2</td>\n",
       "      <td>188</td>\n",
       "      <td>59</td>\n",
       "      <td>26.9</td>\n",
       "    </tr>\n",
       "    <tr>\n",
       "      <th>42</th>\n",
       "      <td>12.7</td>\n",
       "      <td>201</td>\n",
       "      <td>80</td>\n",
       "      <td>25.5</td>\n",
       "    </tr>\n",
       "    <tr>\n",
       "      <th>43</th>\n",
       "      <td>3.2</td>\n",
       "      <td>120</td>\n",
       "      <td>80</td>\n",
       "      <td>22.9</td>\n",
       "    </tr>\n",
       "    <tr>\n",
       "      <th>44</th>\n",
       "      <td>2.2</td>\n",
       "      <td>48</td>\n",
       "      <td>32</td>\n",
       "      <td>11.2</td>\n",
       "    </tr>\n",
       "    <tr>\n",
       "      <th>45</th>\n",
       "      <td>8.5</td>\n",
       "      <td>156</td>\n",
       "      <td>63</td>\n",
       "      <td>20.7</td>\n",
       "    </tr>\n",
       "    <tr>\n",
       "      <th>46</th>\n",
       "      <td>4.0</td>\n",
       "      <td>145</td>\n",
       "      <td>73</td>\n",
       "      <td>26.2</td>\n",
       "    </tr>\n",
       "    <tr>\n",
       "      <th>47</th>\n",
       "      <td>5.7</td>\n",
       "      <td>81</td>\n",
       "      <td>39</td>\n",
       "      <td>9.3</td>\n",
       "    </tr>\n",
       "    <tr>\n",
       "      <th>48</th>\n",
       "      <td>2.6</td>\n",
       "      <td>53</td>\n",
       "      <td>66</td>\n",
       "      <td>10.8</td>\n",
       "    </tr>\n",
       "    <tr>\n",
       "      <th>49</th>\n",
       "      <td>6.8</td>\n",
       "      <td>161</td>\n",
       "      <td>60</td>\n",
       "      <td>15.6</td>\n",
       "    </tr>\n",
       "  </tbody>\n",
       "</table>\n",
       "</div>"
      ],
      "text/plain": [
       "    Murder  Assault  UrbanPop  Rape\n",
       "0     13.2      236        58  21.2\n",
       "1     10.0      263        48  44.5\n",
       "2      8.1      294        80  31.0\n",
       "3      8.8      190        50  19.5\n",
       "4      9.0      276        91  40.6\n",
       "5      7.9      204        78  38.7\n",
       "6      3.3      110        77  11.1\n",
       "7      5.9      238        72  15.8\n",
       "8     15.4      335        80  31.9\n",
       "9     17.4      211        60  25.8\n",
       "10     5.3       46        83  20.2\n",
       "11     2.6      120        54  14.2\n",
       "12    10.4      249        83  24.0\n",
       "13     7.2      113        65  21.0\n",
       "14     2.2       56        57  11.3\n",
       "15     6.0      115        66  18.0\n",
       "16     9.7      109        52  16.3\n",
       "17    15.4      249        66  22.2\n",
       "18     2.1       83        51   7.8\n",
       "19    11.3      300        67  27.8\n",
       "20     4.4      149        85  16.3\n",
       "21    12.1      255        74  35.1\n",
       "22     2.7       72        66  14.9\n",
       "23    16.1      259        44  17.1\n",
       "24     9.0      178        70  28.2\n",
       "25     6.0      109        53  16.4\n",
       "26     4.3      102        62  16.5\n",
       "27    12.2      252        81  46.0\n",
       "28     2.1       57        56   9.5\n",
       "29     7.4      159        89  18.8\n",
       "30    11.4      285        70  32.1\n",
       "31    11.1      254        86  26.1\n",
       "32    13.0      337        45  16.1\n",
       "33     0.8       45        44   7.3\n",
       "34     7.3      120        75  21.4\n",
       "35     6.6      151        68  20.0\n",
       "36     4.9      159        67  29.3\n",
       "37     6.3      106        72  14.9\n",
       "38     3.4      174        87   8.3\n",
       "39    14.4      279        48  22.5\n",
       "40     3.8       86        45  12.8\n",
       "41    13.2      188        59  26.9\n",
       "42    12.7      201        80  25.5\n",
       "43     3.2      120        80  22.9\n",
       "44     2.2       48        32  11.2\n",
       "45     8.5      156        63  20.7\n",
       "46     4.0      145        73  26.2\n",
       "47     5.7       81        39   9.3\n",
       "48     2.6       53        66  10.8\n",
       "49     6.8      161        60  15.6"
      ]
     },
     "execution_count": 36,
     "metadata": {},
     "output_type": "execute_result"
    }
   ],
   "source": [
    "crime.drop(['Unnamed: 0'],axis=1,inplace=True)\n",
    "crime"
   ]
  },
  {
   "cell_type": "code",
   "execution_count": 37,
   "id": "8b06b457",
   "metadata": {
    "ExecuteTime": {
     "end_time": "2023-02-03T10:38:10.220157Z",
     "start_time": "2023-02-03T10:38:10.175927Z"
    }
   },
   "outputs": [
    {
     "data": {
      "text/plain": [
       "array([[ 1.25517927,  0.79078716, -0.52619514, -0.00345116],\n",
       "       [ 0.51301858,  1.11805959, -1.22406668,  2.50942392],\n",
       "       [ 0.07236067,  1.49381682,  1.00912225,  1.05346626],\n",
       "       [ 0.23470832,  0.23321191, -1.08449238, -0.18679398],\n",
       "       [ 0.28109336,  1.2756352 ,  1.77678094,  2.08881393],\n",
       "       [ 0.02597562,  0.40290872,  0.86954794,  1.88390137],\n",
       "       [-1.04088037, -0.73648418,  0.79976079, -1.09272319],\n",
       "       [-0.43787481,  0.81502956,  0.45082502, -0.58583422],\n",
       "       [ 1.76541475,  1.99078607,  1.00912225,  1.1505301 ],\n",
       "       [ 2.22926518,  0.48775713, -0.38662083,  0.49265293],\n",
       "       [-0.57702994, -1.51224105,  1.21848371, -0.11129987],\n",
       "       [-1.20322802, -0.61527217, -0.80534376, -0.75839217],\n",
       "       [ 0.60578867,  0.94836277,  1.21848371,  0.29852525],\n",
       "       [-0.13637203, -0.70012057, -0.03768506, -0.0250209 ],\n",
       "       [-1.29599811, -1.39102904, -0.5959823 , -1.07115345],\n",
       "       [-0.41468229, -0.67587817,  0.03210209, -0.34856705],\n",
       "       [ 0.44344101, -0.74860538, -0.94491807, -0.53190987],\n",
       "       [ 1.76541475,  0.94836277,  0.03210209,  0.10439756],\n",
       "       [-1.31919063, -1.06375661, -1.01470522, -1.44862395],\n",
       "       [ 0.81452136,  1.56654403,  0.10188925,  0.70835037],\n",
       "       [-0.78576263, -0.26375734,  1.35805802, -0.53190987],\n",
       "       [ 1.00006153,  1.02108998,  0.59039932,  1.49564599],\n",
       "       [-1.1800355 , -1.19708982,  0.03210209, -0.68289807],\n",
       "       [ 1.9277624 ,  1.06957478, -1.5032153 , -0.44563089],\n",
       "       [ 0.28109336,  0.0877575 ,  0.31125071,  0.75148985],\n",
       "       [-0.41468229, -0.74860538, -0.87513091, -0.521125  ],\n",
       "       [-0.80895515, -0.83345379, -0.24704653, -0.51034012],\n",
       "       [ 1.02325405,  0.98472638,  1.0789094 ,  2.671197  ],\n",
       "       [-1.31919063, -1.37890783, -0.66576945, -1.26528114],\n",
       "       [-0.08998698, -0.14254532,  1.63720664, -0.26228808],\n",
       "       [ 0.83771388,  1.38472601,  0.31125071,  1.17209984],\n",
       "       [ 0.76813632,  1.00896878,  1.42784517,  0.52500755],\n",
       "       [ 1.20879423,  2.01502847, -1.43342815, -0.55347961],\n",
       "       [-1.62069341, -1.52436225, -1.5032153 , -1.50254831],\n",
       "       [-0.11317951, -0.61527217,  0.66018648,  0.01811858],\n",
       "       [-0.27552716, -0.23951493,  0.1716764 , -0.13286962],\n",
       "       [-0.66980002, -0.14254532,  0.10188925,  0.87012344],\n",
       "       [-0.34510472, -0.78496898,  0.45082502, -0.68289807],\n",
       "       [-1.01768785,  0.03927269,  1.49763233, -1.39469959],\n",
       "       [ 1.53348953,  1.3119988 , -1.22406668,  0.13675217],\n",
       "       [-0.92491776, -1.027393  , -1.43342815, -0.90938037],\n",
       "       [ 1.25517927,  0.20896951, -0.45640799,  0.61128652],\n",
       "       [ 1.13921666,  0.36654512,  1.00912225,  0.46029832],\n",
       "       [-1.06407289, -0.61527217,  1.00912225,  0.17989166],\n",
       "       [-1.29599811, -1.48799864, -2.34066115, -1.08193832],\n",
       "       [ 0.16513075, -0.17890893, -0.17725937, -0.05737552],\n",
       "       [-0.87853272, -0.31224214,  0.52061217,  0.53579242],\n",
       "       [-0.48425985, -1.08799901, -1.85215107, -1.28685088],\n",
       "       [-1.20322802, -1.42739264,  0.03210209, -1.1250778 ],\n",
       "       [-0.22914211, -0.11830292, -0.38662083, -0.60740397]])"
      ]
     },
     "execution_count": 37,
     "metadata": {},
     "output_type": "execute_result"
    }
   ],
   "source": [
    "# Normalize heterogenous numerical data using standard scalar fit transform to dataset\n",
    "crime_norm=StandardScaler().fit_transform(crime)\n",
    "crime_norm"
   ]
  },
  {
   "cell_type": "code",
   "execution_count": 38,
   "id": "a3a36277",
   "metadata": {
    "ExecuteTime": {
     "end_time": "2023-02-03T10:38:10.276390Z",
     "start_time": "2023-02-03T10:38:10.225862Z"
    }
   },
   "outputs": [
    {
     "data": {
      "text/html": [
       "<style>#sk-container-id-4 {color: black;background-color: white;}#sk-container-id-4 pre{padding: 0;}#sk-container-id-4 div.sk-toggleable {background-color: white;}#sk-container-id-4 label.sk-toggleable__label {cursor: pointer;display: block;width: 100%;margin-bottom: 0;padding: 0.3em;box-sizing: border-box;text-align: center;}#sk-container-id-4 label.sk-toggleable__label-arrow:before {content: \"▸\";float: left;margin-right: 0.25em;color: #696969;}#sk-container-id-4 label.sk-toggleable__label-arrow:hover:before {color: black;}#sk-container-id-4 div.sk-estimator:hover label.sk-toggleable__label-arrow:before {color: black;}#sk-container-id-4 div.sk-toggleable__content {max-height: 0;max-width: 0;overflow: hidden;text-align: left;background-color: #f0f8ff;}#sk-container-id-4 div.sk-toggleable__content pre {margin: 0.2em;color: black;border-radius: 0.25em;background-color: #f0f8ff;}#sk-container-id-4 input.sk-toggleable__control:checked~div.sk-toggleable__content {max-height: 200px;max-width: 100%;overflow: auto;}#sk-container-id-4 input.sk-toggleable__control:checked~label.sk-toggleable__label-arrow:before {content: \"▾\";}#sk-container-id-4 div.sk-estimator input.sk-toggleable__control:checked~label.sk-toggleable__label {background-color: #d4ebff;}#sk-container-id-4 div.sk-label input.sk-toggleable__control:checked~label.sk-toggleable__label {background-color: #d4ebff;}#sk-container-id-4 input.sk-hidden--visually {border: 0;clip: rect(1px 1px 1px 1px);clip: rect(1px, 1px, 1px, 1px);height: 1px;margin: -1px;overflow: hidden;padding: 0;position: absolute;width: 1px;}#sk-container-id-4 div.sk-estimator {font-family: monospace;background-color: #f0f8ff;border: 1px dotted black;border-radius: 0.25em;box-sizing: border-box;margin-bottom: 0.5em;}#sk-container-id-4 div.sk-estimator:hover {background-color: #d4ebff;}#sk-container-id-4 div.sk-parallel-item::after {content: \"\";width: 100%;border-bottom: 1px solid gray;flex-grow: 1;}#sk-container-id-4 div.sk-label:hover label.sk-toggleable__label {background-color: #d4ebff;}#sk-container-id-4 div.sk-serial::before {content: \"\";position: absolute;border-left: 1px solid gray;box-sizing: border-box;top: 0;bottom: 0;left: 50%;z-index: 0;}#sk-container-id-4 div.sk-serial {display: flex;flex-direction: column;align-items: center;background-color: white;padding-right: 0.2em;padding-left: 0.2em;position: relative;}#sk-container-id-4 div.sk-item {position: relative;z-index: 1;}#sk-container-id-4 div.sk-parallel {display: flex;align-items: stretch;justify-content: center;background-color: white;position: relative;}#sk-container-id-4 div.sk-item::before, #sk-container-id-4 div.sk-parallel-item::before {content: \"\";position: absolute;border-left: 1px solid gray;box-sizing: border-box;top: 0;bottom: 0;left: 50%;z-index: -1;}#sk-container-id-4 div.sk-parallel-item {display: flex;flex-direction: column;z-index: 1;position: relative;background-color: white;}#sk-container-id-4 div.sk-parallel-item:first-child::after {align-self: flex-end;width: 50%;}#sk-container-id-4 div.sk-parallel-item:last-child::after {align-self: flex-start;width: 50%;}#sk-container-id-4 div.sk-parallel-item:only-child::after {width: 0;}#sk-container-id-4 div.sk-dashed-wrapped {border: 1px dashed gray;margin: 0 0.4em 0.5em 0.4em;box-sizing: border-box;padding-bottom: 0.4em;background-color: white;}#sk-container-id-4 div.sk-label label {font-family: monospace;font-weight: bold;display: inline-block;line-height: 1.2em;}#sk-container-id-4 div.sk-label-container {text-align: center;}#sk-container-id-4 div.sk-container {/* jupyter's `normalize.less` sets `[hidden] { display: none; }` but bootstrap.min.css set `[hidden] { display: none !important; }` so we also need the `!important` here to be able to override the default hidden behavior on the sphinx rendered scikit-learn.org. See: https://github.com/scikit-learn/scikit-learn/issues/21755 */display: inline-block !important;position: relative;}#sk-container-id-4 div.sk-text-repr-fallback {display: none;}</style><div id=\"sk-container-id-4\" class=\"sk-top-container\"><div class=\"sk-text-repr-fallback\"><pre>DBSCAN(eps=1, min_samples=4)</pre><b>In a Jupyter environment, please rerun this cell to show the HTML representation or trust the notebook. <br />On GitHub, the HTML representation is unable to render, please try loading this page with nbviewer.org.</b></div><div class=\"sk-container\" hidden><div class=\"sk-item\"><div class=\"sk-estimator sk-toggleable\"><input class=\"sk-toggleable__control sk-hidden--visually\" id=\"sk-estimator-id-4\" type=\"checkbox\" checked><label for=\"sk-estimator-id-4\" class=\"sk-toggleable__label sk-toggleable__label-arrow\">DBSCAN</label><div class=\"sk-toggleable__content\"><pre>DBSCAN(eps=1, min_samples=4)</pre></div></div></div></div></div>"
      ],
      "text/plain": [
       "DBSCAN(eps=1, min_samples=4)"
      ]
     },
     "execution_count": 38,
     "metadata": {},
     "output_type": "execute_result"
    }
   ],
   "source": [
    "# DBSCAN clustering\n",
    "\n",
    "dbscan=DBSCAN(eps=1,min_samples=4)\n",
    "dbscan.fit(crime_norm)"
   ]
  },
  {
   "cell_type": "code",
   "execution_count": 39,
   "id": "0c24181e",
   "metadata": {
    "ExecuteTime": {
     "end_time": "2023-02-03T10:38:10.411936Z",
     "start_time": "2023-02-03T10:38:10.281871Z"
    }
   },
   "outputs": [
    {
     "data": {
      "text/html": [
       "<div>\n",
       "<style scoped>\n",
       "    .dataframe tbody tr th:only-of-type {\n",
       "        vertical-align: middle;\n",
       "    }\n",
       "\n",
       "    .dataframe tbody tr th {\n",
       "        vertical-align: top;\n",
       "    }\n",
       "\n",
       "    .dataframe thead th {\n",
       "        text-align: right;\n",
       "    }\n",
       "</style>\n",
       "<table border=\"1\" class=\"dataframe\">\n",
       "  <thead>\n",
       "    <tr style=\"text-align: right;\">\n",
       "      <th></th>\n",
       "      <th>Murder</th>\n",
       "      <th>Assault</th>\n",
       "      <th>UrbanPop</th>\n",
       "      <th>Rape</th>\n",
       "      <th>clusters</th>\n",
       "    </tr>\n",
       "  </thead>\n",
       "  <tbody>\n",
       "    <tr>\n",
       "      <th>0</th>\n",
       "      <td>13.2</td>\n",
       "      <td>236</td>\n",
       "      <td>58</td>\n",
       "      <td>21.2</td>\n",
       "      <td>0</td>\n",
       "    </tr>\n",
       "    <tr>\n",
       "      <th>1</th>\n",
       "      <td>10.0</td>\n",
       "      <td>263</td>\n",
       "      <td>48</td>\n",
       "      <td>44.5</td>\n",
       "      <td>-1</td>\n",
       "    </tr>\n",
       "    <tr>\n",
       "      <th>2</th>\n",
       "      <td>8.1</td>\n",
       "      <td>294</td>\n",
       "      <td>80</td>\n",
       "      <td>31.0</td>\n",
       "      <td>-1</td>\n",
       "    </tr>\n",
       "    <tr>\n",
       "      <th>3</th>\n",
       "      <td>8.8</td>\n",
       "      <td>190</td>\n",
       "      <td>50</td>\n",
       "      <td>19.5</td>\n",
       "      <td>-1</td>\n",
       "    </tr>\n",
       "    <tr>\n",
       "      <th>4</th>\n",
       "      <td>9.0</td>\n",
       "      <td>276</td>\n",
       "      <td>91</td>\n",
       "      <td>40.6</td>\n",
       "      <td>-1</td>\n",
       "    </tr>\n",
       "    <tr>\n",
       "      <th>5</th>\n",
       "      <td>7.9</td>\n",
       "      <td>204</td>\n",
       "      <td>78</td>\n",
       "      <td>38.7</td>\n",
       "      <td>-1</td>\n",
       "    </tr>\n",
       "    <tr>\n",
       "      <th>6</th>\n",
       "      <td>3.3</td>\n",
       "      <td>110</td>\n",
       "      <td>77</td>\n",
       "      <td>11.1</td>\n",
       "      <td>1</td>\n",
       "    </tr>\n",
       "    <tr>\n",
       "      <th>7</th>\n",
       "      <td>5.9</td>\n",
       "      <td>238</td>\n",
       "      <td>72</td>\n",
       "      <td>15.8</td>\n",
       "      <td>-1</td>\n",
       "    </tr>\n",
       "    <tr>\n",
       "      <th>8</th>\n",
       "      <td>15.4</td>\n",
       "      <td>335</td>\n",
       "      <td>80</td>\n",
       "      <td>31.9</td>\n",
       "      <td>-1</td>\n",
       "    </tr>\n",
       "    <tr>\n",
       "      <th>9</th>\n",
       "      <td>17.4</td>\n",
       "      <td>211</td>\n",
       "      <td>60</td>\n",
       "      <td>25.8</td>\n",
       "      <td>-1</td>\n",
       "    </tr>\n",
       "    <tr>\n",
       "      <th>10</th>\n",
       "      <td>5.3</td>\n",
       "      <td>46</td>\n",
       "      <td>83</td>\n",
       "      <td>20.2</td>\n",
       "      <td>-1</td>\n",
       "    </tr>\n",
       "    <tr>\n",
       "      <th>11</th>\n",
       "      <td>2.6</td>\n",
       "      <td>120</td>\n",
       "      <td>54</td>\n",
       "      <td>14.2</td>\n",
       "      <td>1</td>\n",
       "    </tr>\n",
       "    <tr>\n",
       "      <th>12</th>\n",
       "      <td>10.4</td>\n",
       "      <td>249</td>\n",
       "      <td>83</td>\n",
       "      <td>24.0</td>\n",
       "      <td>-1</td>\n",
       "    </tr>\n",
       "    <tr>\n",
       "      <th>13</th>\n",
       "      <td>7.2</td>\n",
       "      <td>113</td>\n",
       "      <td>65</td>\n",
       "      <td>21.0</td>\n",
       "      <td>1</td>\n",
       "    </tr>\n",
       "    <tr>\n",
       "      <th>14</th>\n",
       "      <td>2.2</td>\n",
       "      <td>56</td>\n",
       "      <td>57</td>\n",
       "      <td>11.3</td>\n",
       "      <td>1</td>\n",
       "    </tr>\n",
       "    <tr>\n",
       "      <th>15</th>\n",
       "      <td>6.0</td>\n",
       "      <td>115</td>\n",
       "      <td>66</td>\n",
       "      <td>18.0</td>\n",
       "      <td>1</td>\n",
       "    </tr>\n",
       "    <tr>\n",
       "      <th>16</th>\n",
       "      <td>9.7</td>\n",
       "      <td>109</td>\n",
       "      <td>52</td>\n",
       "      <td>16.3</td>\n",
       "      <td>1</td>\n",
       "    </tr>\n",
       "    <tr>\n",
       "      <th>17</th>\n",
       "      <td>15.4</td>\n",
       "      <td>249</td>\n",
       "      <td>66</td>\n",
       "      <td>22.2</td>\n",
       "      <td>0</td>\n",
       "    </tr>\n",
       "    <tr>\n",
       "      <th>18</th>\n",
       "      <td>2.1</td>\n",
       "      <td>83</td>\n",
       "      <td>51</td>\n",
       "      <td>7.8</td>\n",
       "      <td>1</td>\n",
       "    </tr>\n",
       "    <tr>\n",
       "      <th>19</th>\n",
       "      <td>11.3</td>\n",
       "      <td>300</td>\n",
       "      <td>67</td>\n",
       "      <td>27.8</td>\n",
       "      <td>-1</td>\n",
       "    </tr>\n",
       "    <tr>\n",
       "      <th>20</th>\n",
       "      <td>4.4</td>\n",
       "      <td>149</td>\n",
       "      <td>85</td>\n",
       "      <td>16.3</td>\n",
       "      <td>1</td>\n",
       "    </tr>\n",
       "    <tr>\n",
       "      <th>21</th>\n",
       "      <td>12.1</td>\n",
       "      <td>255</td>\n",
       "      <td>74</td>\n",
       "      <td>35.1</td>\n",
       "      <td>-1</td>\n",
       "    </tr>\n",
       "    <tr>\n",
       "      <th>22</th>\n",
       "      <td>2.7</td>\n",
       "      <td>72</td>\n",
       "      <td>66</td>\n",
       "      <td>14.9</td>\n",
       "      <td>1</td>\n",
       "    </tr>\n",
       "    <tr>\n",
       "      <th>23</th>\n",
       "      <td>16.1</td>\n",
       "      <td>259</td>\n",
       "      <td>44</td>\n",
       "      <td>17.1</td>\n",
       "      <td>-1</td>\n",
       "    </tr>\n",
       "    <tr>\n",
       "      <th>24</th>\n",
       "      <td>9.0</td>\n",
       "      <td>178</td>\n",
       "      <td>70</td>\n",
       "      <td>28.2</td>\n",
       "      <td>1</td>\n",
       "    </tr>\n",
       "    <tr>\n",
       "      <th>25</th>\n",
       "      <td>6.0</td>\n",
       "      <td>109</td>\n",
       "      <td>53</td>\n",
       "      <td>16.4</td>\n",
       "      <td>1</td>\n",
       "    </tr>\n",
       "    <tr>\n",
       "      <th>26</th>\n",
       "      <td>4.3</td>\n",
       "      <td>102</td>\n",
       "      <td>62</td>\n",
       "      <td>16.5</td>\n",
       "      <td>1</td>\n",
       "    </tr>\n",
       "    <tr>\n",
       "      <th>27</th>\n",
       "      <td>12.2</td>\n",
       "      <td>252</td>\n",
       "      <td>81</td>\n",
       "      <td>46.0</td>\n",
       "      <td>-1</td>\n",
       "    </tr>\n",
       "    <tr>\n",
       "      <th>28</th>\n",
       "      <td>2.1</td>\n",
       "      <td>57</td>\n",
       "      <td>56</td>\n",
       "      <td>9.5</td>\n",
       "      <td>1</td>\n",
       "    </tr>\n",
       "    <tr>\n",
       "      <th>29</th>\n",
       "      <td>7.4</td>\n",
       "      <td>159</td>\n",
       "      <td>89</td>\n",
       "      <td>18.8</td>\n",
       "      <td>1</td>\n",
       "    </tr>\n",
       "    <tr>\n",
       "      <th>30</th>\n",
       "      <td>11.4</td>\n",
       "      <td>285</td>\n",
       "      <td>70</td>\n",
       "      <td>32.1</td>\n",
       "      <td>-1</td>\n",
       "    </tr>\n",
       "    <tr>\n",
       "      <th>31</th>\n",
       "      <td>11.1</td>\n",
       "      <td>254</td>\n",
       "      <td>86</td>\n",
       "      <td>26.1</td>\n",
       "      <td>-1</td>\n",
       "    </tr>\n",
       "    <tr>\n",
       "      <th>32</th>\n",
       "      <td>13.0</td>\n",
       "      <td>337</td>\n",
       "      <td>45</td>\n",
       "      <td>16.1</td>\n",
       "      <td>-1</td>\n",
       "    </tr>\n",
       "    <tr>\n",
       "      <th>33</th>\n",
       "      <td>0.8</td>\n",
       "      <td>45</td>\n",
       "      <td>44</td>\n",
       "      <td>7.3</td>\n",
       "      <td>1</td>\n",
       "    </tr>\n",
       "    <tr>\n",
       "      <th>34</th>\n",
       "      <td>7.3</td>\n",
       "      <td>120</td>\n",
       "      <td>75</td>\n",
       "      <td>21.4</td>\n",
       "      <td>1</td>\n",
       "    </tr>\n",
       "    <tr>\n",
       "      <th>35</th>\n",
       "      <td>6.6</td>\n",
       "      <td>151</td>\n",
       "      <td>68</td>\n",
       "      <td>20.0</td>\n",
       "      <td>1</td>\n",
       "    </tr>\n",
       "    <tr>\n",
       "      <th>36</th>\n",
       "      <td>4.9</td>\n",
       "      <td>159</td>\n",
       "      <td>67</td>\n",
       "      <td>29.3</td>\n",
       "      <td>1</td>\n",
       "    </tr>\n",
       "    <tr>\n",
       "      <th>37</th>\n",
       "      <td>6.3</td>\n",
       "      <td>106</td>\n",
       "      <td>72</td>\n",
       "      <td>14.9</td>\n",
       "      <td>1</td>\n",
       "    </tr>\n",
       "    <tr>\n",
       "      <th>38</th>\n",
       "      <td>3.4</td>\n",
       "      <td>174</td>\n",
       "      <td>87</td>\n",
       "      <td>8.3</td>\n",
       "      <td>1</td>\n",
       "    </tr>\n",
       "    <tr>\n",
       "      <th>39</th>\n",
       "      <td>14.4</td>\n",
       "      <td>279</td>\n",
       "      <td>48</td>\n",
       "      <td>22.5</td>\n",
       "      <td>0</td>\n",
       "    </tr>\n",
       "    <tr>\n",
       "      <th>40</th>\n",
       "      <td>3.8</td>\n",
       "      <td>86</td>\n",
       "      <td>45</td>\n",
       "      <td>12.8</td>\n",
       "      <td>1</td>\n",
       "    </tr>\n",
       "    <tr>\n",
       "      <th>41</th>\n",
       "      <td>13.2</td>\n",
       "      <td>188</td>\n",
       "      <td>59</td>\n",
       "      <td>26.9</td>\n",
       "      <td>0</td>\n",
       "    </tr>\n",
       "    <tr>\n",
       "      <th>42</th>\n",
       "      <td>12.7</td>\n",
       "      <td>201</td>\n",
       "      <td>80</td>\n",
       "      <td>25.5</td>\n",
       "      <td>-1</td>\n",
       "    </tr>\n",
       "    <tr>\n",
       "      <th>43</th>\n",
       "      <td>3.2</td>\n",
       "      <td>120</td>\n",
       "      <td>80</td>\n",
       "      <td>22.9</td>\n",
       "      <td>1</td>\n",
       "    </tr>\n",
       "    <tr>\n",
       "      <th>44</th>\n",
       "      <td>2.2</td>\n",
       "      <td>48</td>\n",
       "      <td>32</td>\n",
       "      <td>11.2</td>\n",
       "      <td>1</td>\n",
       "    </tr>\n",
       "    <tr>\n",
       "      <th>45</th>\n",
       "      <td>8.5</td>\n",
       "      <td>156</td>\n",
       "      <td>63</td>\n",
       "      <td>20.7</td>\n",
       "      <td>1</td>\n",
       "    </tr>\n",
       "    <tr>\n",
       "      <th>46</th>\n",
       "      <td>4.0</td>\n",
       "      <td>145</td>\n",
       "      <td>73</td>\n",
       "      <td>26.2</td>\n",
       "      <td>1</td>\n",
       "    </tr>\n",
       "    <tr>\n",
       "      <th>47</th>\n",
       "      <td>5.7</td>\n",
       "      <td>81</td>\n",
       "      <td>39</td>\n",
       "      <td>9.3</td>\n",
       "      <td>1</td>\n",
       "    </tr>\n",
       "    <tr>\n",
       "      <th>48</th>\n",
       "      <td>2.6</td>\n",
       "      <td>53</td>\n",
       "      <td>66</td>\n",
       "      <td>10.8</td>\n",
       "      <td>1</td>\n",
       "    </tr>\n",
       "    <tr>\n",
       "      <th>49</th>\n",
       "      <td>6.8</td>\n",
       "      <td>161</td>\n",
       "      <td>60</td>\n",
       "      <td>15.6</td>\n",
       "      <td>1</td>\n",
       "    </tr>\n",
       "  </tbody>\n",
       "</table>\n",
       "</div>"
      ],
      "text/plain": [
       "    Murder  Assault  UrbanPop  Rape  clusters\n",
       "0     13.2      236        58  21.2         0\n",
       "1     10.0      263        48  44.5        -1\n",
       "2      8.1      294        80  31.0        -1\n",
       "3      8.8      190        50  19.5        -1\n",
       "4      9.0      276        91  40.6        -1\n",
       "5      7.9      204        78  38.7        -1\n",
       "6      3.3      110        77  11.1         1\n",
       "7      5.9      238        72  15.8        -1\n",
       "8     15.4      335        80  31.9        -1\n",
       "9     17.4      211        60  25.8        -1\n",
       "10     5.3       46        83  20.2        -1\n",
       "11     2.6      120        54  14.2         1\n",
       "12    10.4      249        83  24.0        -1\n",
       "13     7.2      113        65  21.0         1\n",
       "14     2.2       56        57  11.3         1\n",
       "15     6.0      115        66  18.0         1\n",
       "16     9.7      109        52  16.3         1\n",
       "17    15.4      249        66  22.2         0\n",
       "18     2.1       83        51   7.8         1\n",
       "19    11.3      300        67  27.8        -1\n",
       "20     4.4      149        85  16.3         1\n",
       "21    12.1      255        74  35.1        -1\n",
       "22     2.7       72        66  14.9         1\n",
       "23    16.1      259        44  17.1        -1\n",
       "24     9.0      178        70  28.2         1\n",
       "25     6.0      109        53  16.4         1\n",
       "26     4.3      102        62  16.5         1\n",
       "27    12.2      252        81  46.0        -1\n",
       "28     2.1       57        56   9.5         1\n",
       "29     7.4      159        89  18.8         1\n",
       "30    11.4      285        70  32.1        -1\n",
       "31    11.1      254        86  26.1        -1\n",
       "32    13.0      337        45  16.1        -1\n",
       "33     0.8       45        44   7.3         1\n",
       "34     7.3      120        75  21.4         1\n",
       "35     6.6      151        68  20.0         1\n",
       "36     4.9      159        67  29.3         1\n",
       "37     6.3      106        72  14.9         1\n",
       "38     3.4      174        87   8.3         1\n",
       "39    14.4      279        48  22.5         0\n",
       "40     3.8       86        45  12.8         1\n",
       "41    13.2      188        59  26.9         0\n",
       "42    12.7      201        80  25.5        -1\n",
       "43     3.2      120        80  22.9         1\n",
       "44     2.2       48        32  11.2         1\n",
       "45     8.5      156        63  20.7         1\n",
       "46     4.0      145        73  26.2         1\n",
       "47     5.7       81        39   9.3         1\n",
       "48     2.6       53        66  10.8         1\n",
       "49     6.8      161        60  15.6         1"
      ]
     },
     "execution_count": 39,
     "metadata": {},
     "output_type": "execute_result"
    }
   ],
   "source": [
    "# Adding clusters to dataset\n",
    "\n",
    "crime['clusters']=dbscan.labels_\n",
    "crime"
   ]
  },
  {
   "cell_type": "code",
   "execution_count": 40,
   "id": "6138f0e8",
   "metadata": {
    "ExecuteTime": {
     "end_time": "2023-02-03T10:38:10.475946Z",
     "start_time": "2023-02-03T10:38:10.411936Z"
    }
   },
   "outputs": [
    {
     "data": {
      "text/html": [
       "<div>\n",
       "<style scoped>\n",
       "    .dataframe tbody tr th:only-of-type {\n",
       "        vertical-align: middle;\n",
       "    }\n",
       "\n",
       "    .dataframe tbody tr th {\n",
       "        vertical-align: top;\n",
       "    }\n",
       "\n",
       "    .dataframe thead tr th {\n",
       "        text-align: left;\n",
       "    }\n",
       "</style>\n",
       "<table border=\"1\" class=\"dataframe\">\n",
       "  <thead>\n",
       "    <tr>\n",
       "      <th></th>\n",
       "      <th>clusters</th>\n",
       "      <th>Murder</th>\n",
       "      <th>Assault</th>\n",
       "      <th>UrbanPop</th>\n",
       "      <th>Rape</th>\n",
       "    </tr>\n",
       "    <tr>\n",
       "      <th></th>\n",
       "      <th></th>\n",
       "      <th>mean</th>\n",
       "      <th>mean</th>\n",
       "      <th>mean</th>\n",
       "      <th>mean</th>\n",
       "    </tr>\n",
       "  </thead>\n",
       "  <tbody>\n",
       "    <tr>\n",
       "      <th>0</th>\n",
       "      <td>-1</td>\n",
       "      <td>11.005556</td>\n",
       "      <td>247.166667</td>\n",
       "      <td>70.666667</td>\n",
       "      <td>28.766667</td>\n",
       "    </tr>\n",
       "    <tr>\n",
       "      <th>1</th>\n",
       "      <td>0</td>\n",
       "      <td>14.050000</td>\n",
       "      <td>238.000000</td>\n",
       "      <td>57.750000</td>\n",
       "      <td>23.200000</td>\n",
       "    </tr>\n",
       "    <tr>\n",
       "      <th>2</th>\n",
       "      <td>1</td>\n",
       "      <td>4.825000</td>\n",
       "      <td>112.035714</td>\n",
       "      <td>63.357143</td>\n",
       "      <td>16.107143</td>\n",
       "    </tr>\n",
       "  </tbody>\n",
       "</table>\n",
       "</div>"
      ],
      "text/plain": [
       "  clusters     Murder     Assault   UrbanPop       Rape\n",
       "                 mean        mean       mean       mean\n",
       "0       -1  11.005556  247.166667  70.666667  28.766667\n",
       "1        0  14.050000  238.000000  57.750000  23.200000\n",
       "2        1   4.825000  112.035714  63.357143  16.107143"
      ]
     },
     "execution_count": 40,
     "metadata": {},
     "output_type": "execute_result"
    }
   ],
   "source": [
    "crime.groupby('clusters').agg(['mean']).reset_index()"
   ]
  },
  {
   "cell_type": "code",
   "execution_count": 41,
   "id": "51c2dca3",
   "metadata": {
    "ExecuteTime": {
     "end_time": "2023-02-03T10:38:11.051953Z",
     "start_time": "2023-02-03T10:38:10.492580Z"
    }
   },
   "outputs": [
    {
     "data": {
      "image/png": "[encoded data removed]",
      "text/plain": [
       "<Figure size 1000x700 with 1 Axes>"
      ]
     },
     "metadata": {},
     "output_type": "display_data"
    }
   ],
   "source": [
    "# plot clusters\n",
    "\n",
    "plt.figure(figsize=(10,7))\n",
    "plt.scatter(crime['clusters'],crime['UrbanPop'], c=dbscan.labels_)\n",
    "plt.show()"
   ]
  },
  {
   "cell_type": "code",
   "execution_count": null,
   "id": "3db06bea",
   "metadata": {},
   "outputs": [],
   "source": []
  }
 ],
 "metadata": {
  "kernelspec": {
   "display_name": "Python 3 (ipykernel)",
   "language": "python",
   "name": "python3"
  },
  "language_info": {
   "codemirror_mode": {
    "name": "ipython",
    "version": 3
   },
   "file_extension": ".py",
   "mimetype": "text/x-python",
   "name": "python",
   "nbconvert_exporter": "python",
   "pygments_lexer": "ipython3",
   "version": "3.9.12"
  }
 },
 "nbformat": 4,
 "nbformat_minor": 5
}
