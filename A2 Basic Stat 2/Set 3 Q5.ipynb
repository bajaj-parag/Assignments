{
 "cells": [
  {
   "cell_type": "code",
   "execution_count": 1,
   "id": "f9fc88c0",
   "metadata": {
    "ExecuteTime": {
     "end_time": "2023-01-17T10:24:10.117848Z",
     "start_time": "2023-01-17T10:24:10.092958Z"
    }
   },
   "outputs": [],
   "source": [
    "import numpy as np\n",
    "from scipy import stats\n",
    "from scipy.stats import norm"
   ]
  },
  {
   "cell_type": "code",
   "execution_count": 3,
   "id": "ca0cc508",
   "metadata": {
    "ExecuteTime": {
     "end_time": "2023-01-17T10:27:26.653150Z",
     "start_time": "2023-01-17T10:27:26.605716Z"
    }
   },
   "outputs": [
    {
     "data": {
      "text/plain": [
       "-0.820782681668124"
      ]
     },
     "execution_count": 3,
     "metadata": {},
     "output_type": "execute_result"
    }
   ],
   "source": [
    "# one-tail z-test one-sample\n",
    "\n",
    "z_score = (0.046-0.05)/np.sqrt((0.05*(1-0.05))/2000)\n",
    "z_score"
   ]
  },
  {
   "cell_type": "code",
   "execution_count": 6,
   "id": "61e60d67",
   "metadata": {
    "ExecuteTime": {
     "end_time": "2023-01-17T10:33:44.552908Z",
     "start_time": "2023-01-17T10:33:44.536911Z"
    }
   },
   "outputs": [
    {
     "data": {
      "text/plain": [
       "0.20588503245107104"
      ]
     },
     "execution_count": 6,
     "metadata": {},
     "output_type": "execute_result"
    }
   ],
   "source": [
    "# Find Probability assuming null hyposthesis, so as to compare with Type-1 error α = 0.05\n",
    "\n",
    "p_value=1-stats.norm.cdf(abs(z_score))\n",
    "p_value"
   ]
  },
  {
   "cell_type": "code",
   "execution_count": null,
   "id": "8f70582d",
   "metadata": {},
   "outputs": [],
   "source": []
  }
 ],
 "metadata": {
  "kernelspec": {
   "display_name": "Python 3 (ipykernel)",
   "language": "python",
   "name": "python3"
  },
  "language_info": {
   "codemirror_mode": {
    "name": "ipython",
    "version": 3
   },
   "file_extension": ".py",
   "mimetype": "text/x-python",
   "name": "python",
   "nbconvert_exporter": "python",
   "pygments_lexer": "ipython3",
   "version": "3.9.12"
  }
 },
 "nbformat": 4,
 "nbformat_minor": 5
}
