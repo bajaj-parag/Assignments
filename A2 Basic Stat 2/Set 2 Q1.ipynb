{
 "cells": [
  {
   "cell_type": "code",
   "execution_count": 3,
   "id": "a8929e04",
   "metadata": {
    "ExecuteTime": {
     "end_time": "2023-01-03T12:25:19.629257Z",
     "start_time": "2023-01-03T12:25:19.611269Z"
    }
   },
   "outputs": [],
   "source": [
    "from scipy import stats\n",
    "from scipy.stats import norm"
   ]
  },
  {
   "cell_type": "code",
   "execution_count": 6,
   "id": "6a86f007",
   "metadata": {
    "ExecuteTime": {
     "end_time": "2023-01-03T12:25:57.451305Z",
     "start_time": "2023-01-03T12:25:57.425411Z"
    }
   },
   "outputs": [
    {
     "data": {
      "text/plain": [
       "0.625"
      ]
     },
     "execution_count": 6,
     "metadata": {},
     "output_type": "execute_result"
    }
   ],
   "source": [
    "# Find Z-Scores at X=50; Z = (X - µ) / σ\n",
    "\n",
    "Z = (50-45)/8\n",
    "Z"
   ]
  },
  {
   "cell_type": "code",
   "execution_count": 9,
   "id": "9d55bf89",
   "metadata": {
    "ExecuteTime": {
     "end_time": "2023-01-03T12:28:11.957355Z",
     "start_time": "2023-01-03T12:28:11.941730Z"
    }
   },
   "outputs": [
    {
     "data": {
      "text/plain": [
       "0.26598552904870054"
      ]
     },
     "execution_count": 9,
     "metadata": {},
     "output_type": "execute_result"
    }
   ],
   "source": [
    "# to find the probbility of P(X>50)\n",
    "\n",
    "1-stats.norm.cdf(0.625)"
   ]
  },
  {
   "cell_type": "code",
   "execution_count": 12,
   "id": "6ca75357",
   "metadata": {
    "ExecuteTime": {
     "end_time": "2023-01-03T12:34:27.507199Z",
     "start_time": "2023-01-03T12:34:27.497205Z"
    }
   },
   "outputs": [],
   "source": [
    "# to find the probbility of P(X<=50)\n",
    "\n",
    "value = stats.norm.cdf(0.625)"
   ]
  },
  {
   "cell_type": "code",
   "execution_count": 13,
   "id": "9818b554",
   "metadata": {
    "ExecuteTime": {
     "end_time": "2023-01-03T12:35:31.020784Z",
     "start_time": "2023-01-03T12:35:30.999793Z"
    }
   },
   "outputs": [
    {
     "data": {
      "text/plain": [
       "0.26598552904870054"
      ]
     },
     "execution_count": 13,
     "metadata": {},
     "output_type": "execute_result"
    }
   ],
   "source": [
    "# P(X>50) = 1 - P(X<=50)\n",
    "\n",
    "1- value"
   ]
  },
  {
   "cell_type": "markdown",
   "id": "155da4bb",
   "metadata": {},
   "source": [
    "Option B is correct"
   ]
  },
  {
   "cell_type": "code",
   "execution_count": null,
   "id": "8e8ce262",
   "metadata": {},
   "outputs": [],
   "source": []
  }
 ],
 "metadata": {
  "kernelspec": {
   "display_name": "Python 3 (ipykernel)",
   "language": "python",
   "name": "python3"
  },
  "language_info": {
   "codemirror_mode": {
    "name": "ipython",
    "version": 3
   },
   "file_extension": ".py",
   "mimetype": "text/x-python",
   "name": "python",
   "nbconvert_exporter": "python",
   "pygments_lexer": "ipython3",
   "version": "3.9.12"
  }
 },
 "nbformat": 4,
 "nbformat_minor": 5
}
