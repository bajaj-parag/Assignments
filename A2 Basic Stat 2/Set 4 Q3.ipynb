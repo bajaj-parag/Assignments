{
 "cells": [
  {
   "cell_type": "code",
   "execution_count": 1,
   "id": "7d2cdd1e",
   "metadata": {
    "ExecuteTime": {
     "end_time": "2023-01-18T12:48:43.591689Z",
     "start_time": "2023-01-18T12:48:43.549739Z"
    }
   },
   "outputs": [],
   "source": [
    "import numpy as np\n",
    "from scipy import stats\n",
    "from scipy.stats import norm"
   ]
  },
  {
   "cell_type": "code",
   "execution_count": 2,
   "id": "38c97989",
   "metadata": {
    "ExecuteTime": {
     "end_time": "2023-01-18T12:49:28.173589Z",
     "start_time": "2023-01-18T12:49:28.163595Z"
    }
   },
   "outputs": [],
   "source": [
    "# No investigation P(45<X<55)\n",
    "# Investigation 1-P(45<X<55)"
   ]
  },
  {
   "cell_type": "code",
   "execution_count": 4,
   "id": "28c137a1",
   "metadata": {
    "ExecuteTime": {
     "end_time": "2023-01-18T12:53:15.297490Z",
     "start_time": "2023-01-18T12:53:15.271038Z"
    }
   },
   "outputs": [
    {
     "data": {
      "text/plain": [
       "-1.25"
      ]
     },
     "execution_count": 4,
     "metadata": {},
     "output_type": "execute_result"
    }
   ],
   "source": [
    "# find z score for X=45, z=(X-µ)/(σ/sqrt(n))\n",
    "\n",
    "z_score = (45-50)/(40/np.sqrt(100))\n",
    "z_score"
   ]
  },
  {
   "cell_type": "code",
   "execution_count": 5,
   "id": "e5f8a2d7",
   "metadata": {
    "ExecuteTime": {
     "end_time": "2023-01-18T12:53:54.088487Z",
     "start_time": "2023-01-18T12:53:54.071495Z"
    }
   },
   "outputs": [
    {
     "data": {
      "text/plain": [
       "1.25"
      ]
     },
     "execution_count": 5,
     "metadata": {},
     "output_type": "execute_result"
    }
   ],
   "source": [
    "# find z score for X=55, z=(X-µ)/(σ/sqrt(n))\n",
    "\n",
    "z_score = (55-50)/(40/np.sqrt(100))\n",
    "z_score"
   ]
  },
  {
   "cell_type": "code",
   "execution_count": 6,
   "id": "04e253da",
   "metadata": {
    "ExecuteTime": {
     "end_time": "2023-01-18T12:55:04.417412Z",
     "start_time": "2023-01-18T12:55:04.395424Z"
    }
   },
   "outputs": [
    {
     "data": {
      "text/plain": [
       "0.7887004526662893"
      ]
     },
     "execution_count": 6,
     "metadata": {},
     "output_type": "execute_result"
    }
   ],
   "source": [
    "# For no investigation P(45<X<55) using z_scores = P(X<50)-P(X<45)\n",
    "\n",
    "stats.norm.cdf(1.25)-stats.norm.cdf(-1.25)"
   ]
  },
  {
   "cell_type": "code",
   "execution_count": 7,
   "id": "e599b731",
   "metadata": {
    "ExecuteTime": {
     "end_time": "2023-01-18T12:59:02.749497Z",
     "start_time": "2023-01-18T12:59:02.732507Z"
    }
   },
   "outputs": [
    {
     "data": {
      "text/plain": [
       "(45.00000495667348, 54.99999504332652)"
      ]
     },
     "execution_count": 7,
     "metadata": {},
     "output_type": "execute_result"
    }
   ],
   "source": [
    "stats.norm.interval(0.7887, loc=50, scale=40/np.sqrt(100))"
   ]
  },
  {
   "cell_type": "code",
   "execution_count": 8,
   "id": "87db4ae4",
   "metadata": {
    "ExecuteTime": {
     "end_time": "2023-01-18T13:00:07.173989Z",
     "start_time": "2023-01-18T13:00:07.163995Z"
    }
   },
   "outputs": [
    {
     "data": {
      "text/plain": [
       "0.21130000000000004"
      ]
     },
     "execution_count": 8,
     "metadata": {},
     "output_type": "execute_result"
    }
   ],
   "source": [
    "# For Investigation 1-P(45<X<55)\n",
    "\n",
    "1-0.7887"
   ]
  },
  {
   "cell_type": "code",
   "execution_count": null,
   "id": "43a9780b",
   "metadata": {},
   "outputs": [],
   "source": [
    "z_score = (55-50)/(40/np.sqrt(100))"
   ]
  }
 ],
 "metadata": {
  "kernelspec": {
   "display_name": "Python 3 (ipykernel)",
   "language": "python",
   "name": "python3"
  },
  "language_info": {
   "codemirror_mode": {
    "name": "ipython",
    "version": 3
   },
   "file_extension": ".py",
   "mimetype": "text/x-python",
   "name": "python",
   "nbconvert_exporter": "python",
   "pygments_lexer": "ipython3",
   "version": "3.9.12"
  }
 },
 "nbformat": 4,
 "nbformat_minor": 5
}
