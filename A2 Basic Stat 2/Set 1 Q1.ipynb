{
 "cells": [
  {
   "cell_type": "code",
   "execution_count": 1,
   "id": "eecfcc3e",
   "metadata": {
    "ExecuteTime": {
     "end_time": "2023-01-03T12:13:31.696240Z",
     "start_time": "2023-01-03T12:13:30.009868Z"
    }
   },
   "outputs": [],
   "source": [
    "import pandas as pd\n",
    "import numpy as np"
   ]
  },
  {
   "cell_type": "code",
   "execution_count": 2,
   "id": "9b69e25f",
   "metadata": {
    "ExecuteTime": {
     "end_time": "2023-01-03T12:13:31.727079Z",
     "start_time": "2023-01-03T12:13:31.696240Z"
    }
   },
   "outputs": [],
   "source": [
    "data = pd.Series([24.23,25.53,25.41,24.14,29.62,28.25,25.81,24.39,40.26,32.95,91.36,25.99,39.42,26.71,35.00])"
   ]
  },
  {
   "cell_type": "code",
   "execution_count": 3,
   "id": "5ea015a3",
   "metadata": {
    "ExecuteTime": {
     "end_time": "2023-01-03T12:13:31.743070Z",
     "start_time": "2023-01-03T12:13:31.731077Z"
    }
   },
   "outputs": [],
   "source": [
    "name = ['Allied Signal','Bankers Trust','General Mills','ITT Industries','J.P.Morgan & Co.','Lehman Brothers',\n",
    "      'Marriott','MCI','Merrill Lynch','Microsoft','Morgan Stanley','Sun Microsystems','Travelers','US Airways',\n",
    "      'Warner-Lambert']"
   ]
  },
  {
   "cell_type": "code",
   "execution_count": 4,
   "id": "61109a62",
   "metadata": {
    "ExecuteTime": {
     "end_time": "2023-01-03T12:13:32.825997Z",
     "start_time": "2023-01-03T12:13:31.744970Z"
    }
   },
   "outputs": [],
   "source": [
    "# importing Matplotlib labrary to visualize the data\n",
    "\n",
    "import matplotlib.pyplot as plt\n",
    "%matplotlib inline"
   ]
  },
  {
   "cell_type": "code",
   "execution_count": 12,
   "id": "c89e858a",
   "metadata": {
    "ExecuteTime": {
     "end_time": "2023-01-03T12:15:28.092047Z",
     "start_time": "2023-01-03T12:15:27.947488Z"
    }
   },
   "outputs": [
    {
     "data": {
      "image/png": "[encoded data removed]",
      "text/plain": [
       "<Figure size 640x480 with 1 Axes>"
      ]
     },
     "metadata": {},
     "output_type": "display_data"
    }
   ],
   "source": [
    "plt.boxplot(data, patch_artist=True, vert=False)  # patch artis to color the boxplot\n",
    "plt.show()"
   ]
  },
  {
   "cell_type": "raw",
   "id": "6c4e0372",
   "metadata": {},
   "source": [
    "The Above data has one outlier at a value of 91.36"
   ]
  },
  {
   "cell_type": "code",
   "execution_count": 6,
   "id": "08a9437a",
   "metadata": {
    "ExecuteTime": {
     "end_time": "2023-01-03T12:13:33.133482Z",
     "start_time": "2023-01-03T12:13:33.114495Z"
    }
   },
   "outputs": [
    {
     "data": {
      "text/plain": [
       "33.2713"
      ]
     },
     "execution_count": 6,
     "metadata": {},
     "output_type": "execute_result"
    }
   ],
   "source": [
    "# mean\n",
    "\n",
    "np.round(data.mean(),4)"
   ]
  },
  {
   "cell_type": "code",
   "execution_count": 7,
   "id": "05abc143",
   "metadata": {
    "ExecuteTime": {
     "end_time": "2023-01-03T12:13:33.164759Z",
     "start_time": "2023-01-03T12:13:33.133482Z"
    }
   },
   "outputs": [
    {
     "data": {
      "text/plain": [
       "287.1466"
      ]
     },
     "execution_count": 7,
     "metadata": {},
     "output_type": "execute_result"
    }
   ],
   "source": [
    "# variance\n",
    "\n",
    "np.round(data.var(),4)"
   ]
  },
  {
   "cell_type": "code",
   "execution_count": 8,
   "id": "27998174",
   "metadata": {
    "ExecuteTime": {
     "end_time": "2023-01-03T12:13:33.183871Z",
     "start_time": "2023-01-03T12:13:33.164759Z"
    }
   },
   "outputs": [
    {
     "data": {
      "text/plain": [
       "16.9454"
      ]
     },
     "execution_count": 8,
     "metadata": {},
     "output_type": "execute_result"
    }
   ],
   "source": [
    "# standard deviation\n",
    "\n",
    "np.round(data.std(),4)"
   ]
  },
  {
   "cell_type": "code",
   "execution_count": null,
   "id": "5b04c0e3",
   "metadata": {},
   "outputs": [],
   "source": []
  }
 ],
 "metadata": {
  "kernelspec": {
   "display_name": "Python 3 (ipykernel)",
   "language": "python",
   "name": "python3"
  },
  "language_info": {
   "codemirror_mode": {
    "name": "ipython",
    "version": 3
   },
   "file_extension": ".py",
   "mimetype": "text/x-python",
   "name": "python",
   "nbconvert_exporter": "python",
   "pygments_lexer": "ipython3",
   "version": "3.9.12"
  }
 },
 "nbformat": 4,
 "nbformat_minor": 5
}
