{
 "cells": [
  {
   "cell_type": "code",
   "execution_count": 1,
   "id": "aaf2e682",
   "metadata": {
    "ExecuteTime": {
     "end_time": "2023-01-13T08:58:54.503315Z",
     "start_time": "2023-01-13T08:58:52.074970Z"
    }
   },
   "outputs": [],
   "source": [
    "from scipy import stats\n",
    "from scipy.stats import norm"
   ]
  },
  {
   "cell_type": "code",
   "execution_count": 2,
   "id": "63987b1c",
   "metadata": {
    "ExecuteTime": {
     "end_time": "2023-01-13T08:58:54.519313Z",
     "start_time": "2023-01-13T08:58:54.503315Z"
    }
   },
   "outputs": [],
   "source": [
    "# A. More employees at the processing center are older than 44 than between 38 and 44."
   ]
  },
  {
   "cell_type": "code",
   "execution_count": 3,
   "id": "46380d8e",
   "metadata": {
    "ExecuteTime": {
     "end_time": "2023-01-13T08:58:54.579583Z",
     "start_time": "2023-01-13T08:58:54.519313Z"
    }
   },
   "outputs": [
    {
     "data": {
      "text/plain": [
       "0.15865525393145707"
      ]
     },
     "execution_count": 3,
     "metadata": {},
     "output_type": "execute_result"
    }
   ],
   "source": [
    "# p(X>44); Employees older than 44 yrs of age\n",
    "1-stats.norm.cdf(44,loc=38,scale=6)"
   ]
  },
  {
   "cell_type": "code",
   "execution_count": 4,
   "id": "0eee525f",
   "metadata": {
    "ExecuteTime": {
     "end_time": "2023-01-13T08:58:54.612931Z",
     "start_time": "2023-01-13T08:58:54.580432Z"
    }
   },
   "outputs": [
    {
     "data": {
      "text/plain": [
       "0.3413447460685429"
      ]
     },
     "execution_count": 4,
     "metadata": {},
     "output_type": "execute_result"
    }
   ],
   "source": [
    "stats.norm.cdf(44,loc=38, scale=6)-stats.norm.cdf(38,loc=38, scale=6)"
   ]
  },
  {
   "cell_type": "code",
   "execution_count": 5,
   "id": "029ed387",
   "metadata": {
    "ExecuteTime": {
     "end_time": "2023-01-13T08:58:54.632562Z",
     "start_time": "2023-01-13T08:58:54.613659Z"
    }
   },
   "outputs": [],
   "source": [
    "# B. A training program for employees under the age of 30 at the center would be expected to attract about 36 employees."
   ]
  },
  {
   "cell_type": "code",
   "execution_count": 6,
   "id": "58e3c216",
   "metadata": {
    "ExecuteTime": {
     "end_time": "2023-01-13T08:58:54.663582Z",
     "start_time": "2023-01-13T08:58:54.632562Z"
    }
   },
   "outputs": [
    {
     "data": {
      "text/plain": [
       "0.09121121972586788"
      ]
     },
     "execution_count": 6,
     "metadata": {},
     "output_type": "execute_result"
    }
   ],
   "source": [
    "# P(X<30); Employees under 30 yrs of age\n",
    "stats.norm.cdf(30,38,6)\n"
   ]
  },
  {
   "cell_type": "code",
   "execution_count": 7,
   "id": "e1391903",
   "metadata": {
    "ExecuteTime": {
     "end_time": "2023-01-13T08:58:54.703236Z",
     "start_time": "2023-01-13T08:58:54.663582Z"
    }
   },
   "outputs": [
    {
     "data": {
      "text/plain": [
       "36.484487890347154"
      ]
     },
     "execution_count": 7,
     "metadata": {},
     "output_type": "execute_result"
    }
   ],
   "source": [
    "# No. of employees attending training program from 400 nos. is N*P(X<30)\n",
    "400*stats.norm.cdf(30,38,6)"
   ]
  },
  {
   "cell_type": "code",
   "execution_count": null,
   "id": "692c8d79",
   "metadata": {},
   "outputs": [],
   "source": []
  }
 ],
 "metadata": {
  "kernelspec": {
   "display_name": "Python 3 (ipykernel)",
   "language": "python",
   "name": "python3"
  },
  "language_info": {
   "codemirror_mode": {
    "name": "ipython",
    "version": 3
   },
   "file_extension": ".py",
   "mimetype": "text/x-python",
   "name": "python",
   "nbconvert_exporter": "python",
   "pygments_lexer": "ipython3",
   "version": "3.9.12"
  }
 },
 "nbformat": 4,
 "nbformat_minor": 5
}
